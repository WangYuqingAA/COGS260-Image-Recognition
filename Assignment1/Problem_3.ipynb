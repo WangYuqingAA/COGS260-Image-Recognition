{
 "cells": [
  {
   "cell_type": "code",
   "execution_count": 1,
   "metadata": {},
   "outputs": [],
   "source": [
    "import cv2 # tested with 3.1.0 version\n",
    "import numpy as np\n",
    "import matplotlib.pyplot as plt\n",
    "import os\n",
    "%matplotlib inline"
   ]
  },
  {
   "cell_type": "markdown",
   "metadata": {},
   "source": [
    "# 3. Edge Detection"
   ]
  },
  {
   "cell_type": "code",
   "execution_count": 4,
   "metadata": {},
   "outputs": [
    {
     "name": "stdout",
     "output_type": "stream",
     "text": [
      "Accuracy: 0.621913070511\n"
     ]
    }
   ],
   "source": [
    "from skimage.measure import compare_ssim\n",
    "from evaluate import evaluate\n",
    "# The code returns the accuracy of the edge detector when compared against the ground truth\n",
    "# OUTPUT_FILE_PATH: Path of the image containing the edges obtained using edge detector\n",
    "# GROUND_TRUTH_PATH: Path of the corresponding ground truth image (present in the folder data/ground_truth)\n",
    "# An example of how to use the evaluate function is shown as follows:\n",
    "OUTPUT_FILE_PATH = './data/test.png'\n",
    "GROUND_TRUTH_PATH = './data/ground_truth/3096.bmp'\n",
    "print('Accuracy: ' + str(evaluate(OUTPUT_FILE_PATH, GROUND_TRUTH_PATH)))"
   ]
  },
  {
   "cell_type": "code",
   "execution_count": 5,
   "metadata": {},
   "outputs": [],
   "source": [
    "def show_histRGB(img, imagepath):\n",
    "    color = ('b', 'g', 'r')\n",
    "    plt.figure(figsize=(20, 6)) # Figure size can be adjusted.\n",
    "    plt.subplot(121), plt.imshow(cv2.cvtColor(img, cv2.COLOR_BGR2RGB)) # show the corresponding rgb image using pyplot.\n",
    "    plt.xticks([])\n",
    "    plt.yticks([])\n",
    "    plt.title(imagepath)\n",
    "    for i, col in enumerate(color):\n",
    "        # a) Calculate the histograms for this image.\n",
    "        histr = cv2.calcHist([img],[i],None,[256],[0,256])\n",
    "        plt.subplot(122), plt.plot(histr, color = col) # plot histogram with the b g r channels.\n",
    "        plt.xlim([0, 256])\n",
    "        plt.title(\"histRGB\")\n",
    "    plt.show()"
   ]
  },
  {
   "cell_type": "markdown",
   "metadata": {},
   "source": [
    "## 3.1 Edge Detector 1"
   ]
  },
  {
   "cell_type": "markdown",
   "metadata": {},
   "source": [
    "Canny Edge Detector:\n",
    "The MinVal and MaxVal parameters have been selected for better performance."
   ]
  },
  {
   "cell_type": "code",
   "execution_count": 8,
   "metadata": {
    "scrolled": true
   },
   "outputs": [
    {
     "name": "stdout",
     "output_type": "stream",
     "text": [
      "Accuracy: 0.851458215944\n",
      "Accuracy: 0.678700267485\n",
      "Accuracy: 0.769930246566\n",
      "Accuracy: 0.73535793162\n"
     ]
    }
   ],
   "source": [
    "### Fill your code here\n",
    "### Report the accuracy obtained\n",
    "### Report any improvements you have tried\n",
    "\n",
    "# Canny Edge Detector\n",
    "IMG_NAMES = ['3096.jpg', '12084.jpg', '33039.jpg', '37073.jpg']\n",
    "Val = [(200,300),(700,1100),(600,1100),(200,300)]\n",
    "\n",
    "for imagename, Val in zip(IMG_NAMES,Val):\n",
    "    imagepath = os.path.join('data/img/', imagename)\n",
    "    groundtruthpath = os.path.join('data/ground_truth/',imagename.split('.')[0]+'.bmp')\n",
    "    img = cv2.imread(imagepath,1) # read the image from image path using opencv.\n",
    "    edge_dectected = cv2.Canny(img,Val[0],Val[1],True)\n",
    "    cv2.imwrite(imagename.split('.')[0]+'_Canny.bmp',edge_dectected) \n",
    "    print('Accuracy: ' + str(evaluate(imagename.split('.')[0]+'_Canny.bmp', groundtruthpath)))"
   ]
  },
  {
   "cell_type": "markdown",
   "metadata": {},
   "source": [
    "## 3.2 Edge Detector 2"
   ]
  },
  {
   "cell_type": "markdown",
   "metadata": {},
   "source": [
    "Sobel Edge Detector:\n",
    "K_size is selected for better performance"
   ]
  },
  {
   "cell_type": "code",
   "execution_count": 7,
   "metadata": {
    "scrolled": true
   },
   "outputs": [
    {
     "name": "stdout",
     "output_type": "stream",
     "text": [
      "Accuracy: 0.849696569323\n",
      "Accuracy: 0.82824593105\n",
      "Accuracy: 0.203288838803\n",
      "Accuracy: 0.743881192479\n"
     ]
    }
   ],
   "source": [
    "### Fill your code here\n",
    "### Report the accuracy obtained\n",
    "### Report any improvements you have tried\n",
    "\n",
    "# Sobel Operator\n",
    "IMG_NAMES = ['3096.jpg', '8023.jpg', '33039.jpg', '37073.jpg']\n",
    "K_size = [3,1,1,3]\n",
    "\n",
    "for imagename, k in zip(IMG_NAMES,K_size):\n",
    "    imagepath = os.path.join('data/img/', imagename)\n",
    "    groundtruthpath = os.path.join('data/ground_truth/',imagename.split('.')[0]+'.bmp')\n",
    "    img = cv2.imread(imagepath,1) # read the image from image path using opencv.\n",
    "    sobelx = cv2.Sobel(img,cv2.CV_64F,1,0,ksize=k)\n",
    "    sobely = cv2.Sobel(img,cv2.CV_64F,0,1,ksize=k)\n",
    "    result = np.uint8(np.sqrt(np.square(sobelx.astype(int))+np.square(sobely.astype(int))))\n",
    "    cv2.imwrite(imagename.split('.')[0]+'_Sobel.bmp',result) \n",
    "    print('Accuracy: ' + str(evaluate(imagename.split('.')[0]+'_Sobel.bmp', groundtruthpath)))"
   ]
  },
  {
   "cell_type": "markdown",
   "metadata": {},
   "source": [
    "## 3.3 Edge Detector 3"
   ]
  },
  {
   "cell_type": "markdown",
   "metadata": {},
   "source": [
    "StructuredForests Edge Detector:\n",
    "\n",
    "Run by Linux\n",
    "\n",
    "Use parameters and models provided by the author \n",
    "\n",
    "Edge detected image saved in /data/edges/"
   ]
  },
  {
   "cell_type": "code",
   "execution_count": 6,
   "metadata": {},
   "outputs": [],
   "source": [
    "import os\n",
    "import sys\n",
    "os.chdir('./Reference/StructuredForests')\n",
    "sys.path.append(os.getcwd())"
   ]
  },
  {
   "cell_type": "code",
   "execution_count": 12,
   "metadata": {},
   "outputs": [],
   "source": [
    "### Fill your code here\n",
    "### Report the accuracy obtained\n",
    "### Report any improvements you have tried\n",
    "from StructuredForests import *\n",
    "\n",
    "IMG_NAMES = ['3096.jpg', '8023.jpg', '33039.jpg', '37073.jpg']\n",
    "\n",
    "rand = N.random.RandomState(1)\n",
    "options = {\n",
    "        \"rgbd\": 0,\n",
    "        \"shrink\": 2,\n",
    "        \"n_orient\": 4,\n",
    "        \"grd_smooth_rad\": 0,\n",
    "        \"grd_norm_rad\": 4,\n",
    "        \"reg_smooth_rad\": 2,\n",
    "        \"ss_smooth_rad\": 8,\n",
    "        \"p_size\": 32,\n",
    "        \"g_size\": 16,\n",
    "        \"n_cell\": 5,\n",
    "        \"n_pos\": 10000,\n",
    "        \"n_neg\": 10000,\n",
    "        \"fraction\": 0.25,\n",
    "        \"n_tree\": 8,\n",
    "        \"n_class\": 2,\n",
    "        \"min_count\": 1,\n",
    "        \"min_child\": 8,\n",
    "        \"max_depth\": 64,\n",
    "        \"split\": \"gini\",\n",
    "        \"discretize\": lambda lbls, n_class:\n",
    "            discretize(lbls, n_class, n_sample=256, rand=rand),\n",
    "        \"stride\": 2,\n",
    "        \"sharpen\": 2,\n",
    "        \"n_tree_eval\": 4,\n",
    "        \"nms\": True,\n",
    "}\n",
    "model = StructuredForests(options,rand=rand,model_dir='./model/')"
   ]
  },
  {
   "cell_type": "code",
   "execution_count": 13,
   "metadata": {},
   "outputs": [
    {
     "name": "stdout",
     "output_type": "stream",
     "text": [
      "Processing Image 1/10\n",
      "Processing Image 2/10\n",
      "Processing Image 3/10\n",
      "Processing Image 4/10\n",
      "Processing Image 5/10\n",
      "Processing Image 6/10\n",
      "Processing Image 7/10\n",
      "Processing Image 8/10\n",
      "Processing Image 9/10\n",
      "Processing Image 10/10\n"
     ]
    }
   ],
   "source": [
    "def test(model, input_root, output_root):\n",
    "    from skimage import img_as_float, img_as_ubyte\n",
    "    from skimage.io import imread, imsave\n",
    "\n",
    "    if not os.path.exists(output_root):\n",
    "        os.makedirs(output_root)\n",
    "\n",
    "    image_dir = os.path.join(input_root, 'img')\n",
    "    file_names = filter(lambda name: name[-3:] == \"jpg\", os.listdir(image_dir))\n",
    "    n_image = len(file_names)\n",
    "\n",
    "    for i, file_name in enumerate(file_names):\n",
    "        img = img_as_float(imread(os.path.join(image_dir, file_name)))\n",
    "\n",
    "        edge = img_as_ubyte(model.predict(img))\n",
    "\n",
    "        imsave(os.path.join(output_root, file_name[:-3] + \"png\"), edge)\n",
    "\n",
    "        print(\"Processing Image %d/%d\\r\" % (i + 1, n_image))\n",
    "        \n",
    "test(model, \"../../data\", \"../../data/edges\")"
   ]
  },
  {
   "cell_type": "code",
   "execution_count": 17,
   "metadata": {
    "scrolled": true
   },
   "outputs": [
    {
     "name": "stdout",
     "output_type": "stream",
     "text": [
      "Accuracy: 0.846056696524\n",
      "Accuracy: 0.856056631758\n",
      "Accuracy: 0.813647580003\n",
      "Accuracy: 0.694930732314\n"
     ]
    }
   ],
   "source": [
    "for imagename in IMG_NAMES:\n",
    "    imagepath = os.path.join('../../data/edges/', imagename.split('.')[0]+'.png')\n",
    "    groundtruthpath = os.path.join('../../data/ground_truth/',imagename.split('.')[0]+'.bmp')\n",
    "    img = cv2.imread(imagepath,1) # read the image from image path using opencv.\n",
    "    cv2.imwrite(imagename.split('.')[0]+'_StructureForests.bmp',img) \n",
    "    print('Accuracy: ' + str(evaluate(imagename.split('.')[0]+'_StructureForests.bmp', groundtruthpath)))\n"
   ]
  },
  {
   "cell_type": "code",
   "execution_count": null,
   "metadata": {},
   "outputs": [],
   "source": []
  }
 ],
 "metadata": {
  "kernelspec": {
   "display_name": "Python 3",
   "language": "python",
   "name": "python3"
  },
  "language_info": {
   "codemirror_mode": {
    "name": "ipython",
    "version": 3
   },
   "file_extension": ".py",
   "mimetype": "text/x-python",
   "name": "python",
   "nbconvert_exporter": "python",
   "pygments_lexer": "ipython3",
   "version": "3.6.4"
  }
 },
 "nbformat": 4,
 "nbformat_minor": 1
}
