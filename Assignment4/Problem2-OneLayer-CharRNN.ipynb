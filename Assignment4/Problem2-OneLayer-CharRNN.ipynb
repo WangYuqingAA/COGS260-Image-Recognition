{
 "cells": [
  {
   "cell_type": "markdown",
   "metadata": {},
   "source": [
    "# CharRNN"
   ]
  },
  {
   "cell_type": "markdown",
   "metadata": {},
   "source": [
    "# Import"
   ]
  },
  {
   "cell_type": "markdown",
   "metadata": {},
   "source": [
    "For Data Processing"
   ]
  },
  {
   "cell_type": "code",
   "execution_count": 1,
   "metadata": {},
   "outputs": [],
   "source": [
    "import re\n",
    "import random\n",
    "import string"
   ]
  },
  {
   "cell_type": "markdown",
   "metadata": {},
   "source": [
    "For Model Building"
   ]
  },
  {
   "cell_type": "code",
   "execution_count": 2,
   "metadata": {},
   "outputs": [],
   "source": [
    "import torch\n",
    "import torch.nn as nn\n",
    "from torch.autograd import Variable"
   ]
  },
  {
   "cell_type": "markdown",
   "metadata": {},
   "source": [
    "For PostProcessing"
   ]
  },
  {
   "cell_type": "code",
   "execution_count": 3,
   "metadata": {},
   "outputs": [],
   "source": [
    "import matplotlib.pyplot as plt"
   ]
  },
  {
   "cell_type": "markdown",
   "metadata": {},
   "source": [
    "# Read Data"
   ]
  },
  {
   "cell_type": "code",
   "execution_count": 4,
   "metadata": {},
   "outputs": [],
   "source": [
    "all_chars = string.printable\n",
    "total_num_chars = len(all_chars)\n",
    "\n",
    "f = open(\"./Data/tinyshakespeare.txt\",\"r\")\n",
    "content = f.read()\n",
    "content_length = len(content)"
   ]
  },
  {
   "cell_type": "markdown",
   "metadata": {},
   "source": [
    "Split Train and Valid"
   ]
  },
  {
   "cell_type": "code",
   "execution_count": 5,
   "metadata": {},
   "outputs": [],
   "source": [
    "train_chars = content[:-5000]\n",
    "valid_chars = content[-5000:]"
   ]
  },
  {
   "cell_type": "markdown",
   "metadata": {},
   "source": [
    "Obtain Mini-batch, define size of mini-batch here"
   ]
  },
  {
   "cell_type": "code",
   "execution_count": 6,
   "metadata": {},
   "outputs": [],
   "source": [
    "MINIBATCH = 200"
   ]
  },
  {
   "cell_type": "markdown",
   "metadata": {},
   "source": [
    "Useful Functions for Feature Generation"
   ]
  },
  {
   "cell_type": "code",
   "execution_count": 7,
   "metadata": {},
   "outputs": [],
   "source": [
    "def random_batch_char():\n",
    "    random_index = random.randint(0, len(train_chars) - MINIBATCH-1)\n",
    "    return train_chars[random_index:random_index+MINIBATCH+1]"
   ]
  },
  {
   "cell_type": "code",
   "execution_count": 8,
   "metadata": {},
   "outputs": [],
   "source": [
    "def char2tensor(inputs):\n",
    "    t = torch.zeros(len(inputs)).long()\n",
    "    for count in range(len(inputs)):\n",
    "        t[count] = all_chars.index(inputs[count])\n",
    "    return Variable(t)"
   ]
  },
  {
   "cell_type": "code",
   "execution_count": 9,
   "metadata": {},
   "outputs": [],
   "source": [
    "def random_training_batch():\n",
    "    batch_chars = random_batch_char()\n",
    "    inputs = char2tensor(batch_chars[:-1])\n",
    "    tags = char2tensor(batch_chars[1:])\n",
    "    return inputs, tags"
   ]
  },
  {
   "cell_type": "markdown",
   "metadata": {},
   "source": [
    "# Define Model"
   ]
  },
  {
   "cell_type": "code",
   "execution_count": 10,
   "metadata": {},
   "outputs": [],
   "source": [
    "class RNN(nn.Module):\n",
    "    def __init__(self,input_dim, hidden_dim, output_dim, n_layers=1):\n",
    "        super(RNN,self).__init__()\n",
    "        self.input_dim = input_dim\n",
    "        self.hidden_dim = hidden_dim\n",
    "        self.output_dim = output_dim\n",
    "        self.n_layers = n_layers\n",
    "        \n",
    "        self.encoder = nn.Embedding(input_dim, hidden_dim)\n",
    "        self.net = nn.RNN(hidden_dim, hidden_dim, n_layers)\n",
    "        self.decoder = nn.Linear(hidden_dim, output_dim)\n",
    "        \n",
    "    def forward(self, inputs, hidden):\n",
    "        inputs = self.encoder(inputs.view(1,-1))\n",
    "        output, hidden = self.net(inputs.view(1,1,-1),hidden)\n",
    "        output = self.decoder(output.view(1,-1))\n",
    "        return output, hidden\n",
    "    \n",
    "    def hidden_init(self):\n",
    "        return Variable(torch.zeros(self.n_layers, 1, self.hidden_dim))"
   ]
  },
  {
   "cell_type": "markdown",
   "metadata": {},
   "source": [
    "Configure Parameter"
   ]
  },
  {
   "cell_type": "code",
   "execution_count": 11,
   "metadata": {},
   "outputs": [],
   "source": [
    "NUM_LAYER = 1\n",
    "HIDDEN_DIM = 100\n",
    "model = RNN(total_num_chars, HIDDEN_DIM, total_num_chars, NUM_LAYER)"
   ]
  },
  {
   "cell_type": "markdown",
   "metadata": {},
   "source": [
    "# Training Process"
   ]
  },
  {
   "cell_type": "code",
   "execution_count": 12,
   "metadata": {},
   "outputs": [],
   "source": [
    "MAX_ITERATION = 20000\n",
    "PRINT_PER = 100\n",
    "LEARNING_RATE = 0.005"
   ]
  },
  {
   "cell_type": "code",
   "execution_count": 13,
   "metadata": {},
   "outputs": [],
   "source": [
    "model_optimizer = torch.optim.Adam(model.parameters(), lr=LEARNING_RATE)\n",
    "criterion = nn.CrossEntropyLoss()"
   ]
  },
  {
   "cell_type": "code",
   "execution_count": 14,
   "metadata": {},
   "outputs": [],
   "source": [
    "def train(inputs, tags):\n",
    "    hidden = model.hidden_init()\n",
    "    model.zero_grad()\n",
    "    loss = 0\n",
    "    for count in range(MINIBATCH):\n",
    "        output, hidden = model(inputs[count], hidden)\n",
    "        loss += criterion(output, tags[count])  \n",
    "    loss.backward()\n",
    "    model_optimizer.step()\n",
    "    return loss.data[0]/MINIBATCH\n",
    "\n",
    "def valid(inputs, tags):\n",
    "    hidden = model.hidden_init()\n",
    "    model.zero_grad()\n",
    "    loss = 0\n",
    "    for count in range(len(inputs)):\n",
    "        output, hidden = model(inputs[count], hidden)\n",
    "        loss += criterion(output, tags[count]) \n",
    "    return loss.data[0]/len(inputs)"
   ]
  },
  {
   "cell_type": "code",
   "execution_count": 15,
   "metadata": {},
   "outputs": [],
   "source": [
    "saved_train_loss = []\n",
    "saved_valid_loss = []"
   ]
  },
  {
   "cell_type": "code",
   "execution_count": 16,
   "metadata": {},
   "outputs": [],
   "source": [
    "valid_inputs = char2tensor(valid_chars[:-1])\n",
    "valid_tags = char2tensor(valid_chars[1:])"
   ]
  },
  {
   "cell_type": "code",
   "execution_count": 17,
   "metadata": {},
   "outputs": [
    {
     "name": "stdout",
     "output_type": "stream",
     "text": [
      "epoch: 100\ttrain_loss: 2.650787185668946\tvalid_loss: 2.3371041870117186\n",
      "epoch: 200\ttrain_loss: 2.2442281280517573\tvalid_loss: 2.278631591796875\n",
      "epoch: 300\ttrain_loss: 2.1485995529174806\tvalid_loss: 2.2290899658203127\n",
      "epoch: 400\ttrain_loss: 2.1091544418334967\tvalid_loss: 2.1525143432617186\n",
      "epoch: 500\ttrain_loss: 2.0771607360839837\tvalid_loss: 2.0541583251953126\n",
      "epoch: 600\ttrain_loss: 2.0426654220581053\tvalid_loss: 2.016005859375\n",
      "epoch: 700\ttrain_loss: 1.9968168319702142\tvalid_loss: 2.112503967285156\n",
      "epoch: 800\ttrain_loss: 1.9517124679565427\tvalid_loss: 1.9992787170410156\n",
      "epoch: 900\ttrain_loss: 1.9507220199584965\tvalid_loss: 2.033091735839844\n",
      "epoch: 1000\ttrain_loss: 1.9477157684326167\tvalid_loss: 1.9355213928222657\n",
      "epoch: 1100\ttrain_loss: 1.9359496353149408\tvalid_loss: 1.96572509765625\n",
      "epoch: 1200\ttrain_loss: 1.9110012725830066\tvalid_loss: 1.8906988525390624\n",
      "epoch: 1300\ttrain_loss: 1.915879180908203\tvalid_loss: 1.8974311828613282\n",
      "epoch: 1400\ttrain_loss: 1.8999470291137694\tvalid_loss: 1.866561737060547\n",
      "epoch: 1500\ttrain_loss: 1.8975488327026366\tvalid_loss: 1.8948802185058593\n",
      "epoch: 1600\ttrain_loss: 1.912616532897949\tvalid_loss: 1.8851240539550782\n",
      "epoch: 1700\ttrain_loss: 1.8698912269592278\tvalid_loss: 1.9016659545898438\n",
      "epoch: 1800\ttrain_loss: 1.8891348770141603\tvalid_loss: 1.8747250366210937\n",
      "epoch: 1900\ttrain_loss: 1.8747356613159178\tvalid_loss: 1.833399200439453\n",
      "epoch: 2000\ttrain_loss: 1.8427305816650386\tvalid_loss: 1.8024156188964844\n",
      "epoch: 2100\ttrain_loss: 1.835072163391114\tvalid_loss: 1.7621446228027344\n",
      "epoch: 2200\ttrain_loss: 1.8605206855773928\tvalid_loss: 1.772770233154297\n",
      "epoch: 2300\ttrain_loss: 1.8699060287475593\tvalid_loss: 1.7937409973144531\n",
      "epoch: 2400\ttrain_loss: 1.831203865051269\tvalid_loss: 1.7357353210449218\n",
      "epoch: 2500\ttrain_loss: 1.8220423278808593\tvalid_loss: 1.7369505310058593\n",
      "epoch: 2600\ttrain_loss: 1.8493967605590813\tvalid_loss: 1.7491520690917968\n",
      "epoch: 2700\ttrain_loss: 1.8499992950439454\tvalid_loss: 1.720311737060547\n",
      "epoch: 2800\ttrain_loss: 1.8629436386108407\tvalid_loss: 1.7634703063964843\n",
      "epoch: 2900\ttrain_loss: 1.8406170562744142\tvalid_loss: 1.713106689453125\n",
      "epoch: 3000\ttrain_loss: 1.8367246078491208\tvalid_loss: 1.739821319580078\n",
      "epoch: 3100\ttrain_loss: 1.8336733932495115\tvalid_loss: 1.704132080078125\n",
      "epoch: 3200\ttrain_loss: 1.8345989364624027\tvalid_loss: 1.692064971923828\n",
      "epoch: 3300\ttrain_loss: 1.847362197875977\tvalid_loss: 1.76672607421875\n",
      "epoch: 3400\ttrain_loss: 1.8277700088500979\tvalid_loss: 1.6877128601074218\n",
      "epoch: 3500\ttrain_loss: 1.830552233886718\tvalid_loss: 1.7185348510742187\n",
      "epoch: 3600\ttrain_loss: 1.8121329208374026\tvalid_loss: 1.7714825439453126\n",
      "epoch: 3700\ttrain_loss: 1.8009221817016603\tvalid_loss: 1.68329833984375\n",
      "epoch: 3800\ttrain_loss: 1.8213415054321291\tvalid_loss: 1.6647296142578125\n",
      "epoch: 3900\ttrain_loss: 1.8087482055664057\tvalid_loss: 1.7240306091308595\n",
      "epoch: 4000\ttrain_loss: 1.809075003051758\tvalid_loss: 1.7288002014160155\n",
      "epoch: 4100\ttrain_loss: 1.7861143676757818\tvalid_loss: 1.679051971435547\n",
      "epoch: 4200\ttrain_loss: 1.841242492675781\tvalid_loss: 1.7058067321777344\n",
      "epoch: 4300\ttrain_loss: 1.8436404266357416\tvalid_loss: 1.6644209289550782\n",
      "epoch: 4400\ttrain_loss: 1.7901248733520512\tvalid_loss: 1.7068289184570313\n",
      "epoch: 4500\ttrain_loss: 1.7868371841430664\tvalid_loss: 1.6643780517578124\n",
      "epoch: 4600\ttrain_loss: 1.8211934234619143\tvalid_loss: 1.752327880859375\n",
      "epoch: 4700\ttrain_loss: 1.8232121643066401\tvalid_loss: 1.6787155151367188\n",
      "epoch: 4800\ttrain_loss: 1.7959651710510263\tvalid_loss: 1.6701705932617188\n",
      "epoch: 4900\ttrain_loss: 1.7977370269775395\tvalid_loss: 1.7834678649902345\n",
      "epoch: 5000\ttrain_loss: 1.8259914337158205\tvalid_loss: 1.6224725341796875\n"
     ]
    },
    {
     "ename": "KeyboardInterrupt",
     "evalue": "",
     "output_type": "error",
     "traceback": [
      "\u001b[1;31m---------------------------------------------------------------------------\u001b[0m",
      "\u001b[1;31mKeyboardInterrupt\u001b[0m                         Traceback (most recent call last)",
      "\u001b[1;32m<ipython-input-17-03fef0ee8f28>\u001b[0m in \u001b[0;36m<module>\u001b[1;34m()\u001b[0m\n\u001b[0;32m      1\u001b[0m \u001b[0maveraged_loss\u001b[0m \u001b[1;33m=\u001b[0m \u001b[1;36m0\u001b[0m\u001b[1;33m\u001b[0m\u001b[0m\n\u001b[0;32m      2\u001b[0m \u001b[1;32mfor\u001b[0m \u001b[0mepoch\u001b[0m \u001b[1;32min\u001b[0m \u001b[0mrange\u001b[0m\u001b[1;33m(\u001b[0m\u001b[1;36m1\u001b[0m\u001b[1;33m,\u001b[0m\u001b[0mMAX_ITERATION\u001b[0m\u001b[1;33m)\u001b[0m\u001b[1;33m:\u001b[0m\u001b[1;33m\u001b[0m\u001b[0m\n\u001b[1;32m----> 3\u001b[1;33m     \u001b[0mloss\u001b[0m \u001b[1;33m=\u001b[0m \u001b[0mtrain\u001b[0m\u001b[1;33m(\u001b[0m\u001b[1;33m*\u001b[0m\u001b[0mrandom_training_batch\u001b[0m\u001b[1;33m(\u001b[0m\u001b[1;33m)\u001b[0m\u001b[1;33m)\u001b[0m\u001b[1;33m\u001b[0m\u001b[0m\n\u001b[0m\u001b[0;32m      4\u001b[0m     \u001b[0maveraged_loss\u001b[0m \u001b[1;33m+=\u001b[0m \u001b[0mloss\u001b[0m\u001b[1;33m\u001b[0m\u001b[0m\n\u001b[0;32m      5\u001b[0m     \u001b[1;32mif\u001b[0m \u001b[0mepoch\u001b[0m \u001b[1;33m%\u001b[0m \u001b[0mPRINT_PER\u001b[0m \u001b[1;33m==\u001b[0m \u001b[1;36m0\u001b[0m\u001b[1;33m:\u001b[0m\u001b[1;33m\u001b[0m\u001b[0m\n",
      "\u001b[1;32m<ipython-input-14-92968e229805>\u001b[0m in \u001b[0;36mtrain\u001b[1;34m(inputs, tags)\u001b[0m\n\u001b[0;32m      5\u001b[0m     \u001b[1;32mfor\u001b[0m \u001b[0mcount\u001b[0m \u001b[1;32min\u001b[0m \u001b[0mrange\u001b[0m\u001b[1;33m(\u001b[0m\u001b[0mMINIBATCH\u001b[0m\u001b[1;33m)\u001b[0m\u001b[1;33m:\u001b[0m\u001b[1;33m\u001b[0m\u001b[0m\n\u001b[0;32m      6\u001b[0m         \u001b[0moutput\u001b[0m\u001b[1;33m,\u001b[0m \u001b[0mhidden\u001b[0m \u001b[1;33m=\u001b[0m \u001b[0mmodel\u001b[0m\u001b[1;33m(\u001b[0m\u001b[0minputs\u001b[0m\u001b[1;33m[\u001b[0m\u001b[0mcount\u001b[0m\u001b[1;33m]\u001b[0m\u001b[1;33m,\u001b[0m \u001b[0mhidden\u001b[0m\u001b[1;33m)\u001b[0m\u001b[1;33m\u001b[0m\u001b[0m\n\u001b[1;32m----> 7\u001b[1;33m         \u001b[0mloss\u001b[0m \u001b[1;33m+=\u001b[0m \u001b[0mcriterion\u001b[0m\u001b[1;33m(\u001b[0m\u001b[0moutput\u001b[0m\u001b[1;33m,\u001b[0m \u001b[0mtags\u001b[0m\u001b[1;33m[\u001b[0m\u001b[0mcount\u001b[0m\u001b[1;33m]\u001b[0m\u001b[1;33m)\u001b[0m\u001b[1;33m\u001b[0m\u001b[0m\n\u001b[0m\u001b[0;32m      8\u001b[0m     \u001b[0mloss\u001b[0m\u001b[1;33m.\u001b[0m\u001b[0mbackward\u001b[0m\u001b[1;33m(\u001b[0m\u001b[1;33m)\u001b[0m\u001b[1;33m\u001b[0m\u001b[0m\n\u001b[0;32m      9\u001b[0m     \u001b[0mmodel_optimizer\u001b[0m\u001b[1;33m.\u001b[0m\u001b[0mstep\u001b[0m\u001b[1;33m(\u001b[0m\u001b[1;33m)\u001b[0m\u001b[1;33m\u001b[0m\u001b[0m\n",
      "\u001b[1;32mE:\\Softwares\\Anaconda3\\envs\\py3\\lib\\site-packages\\torch\\nn\\modules\\module.py\u001b[0m in \u001b[0;36m__call__\u001b[1;34m(self, *input, **kwargs)\u001b[0m\n\u001b[0;32m    355\u001b[0m             \u001b[0mresult\u001b[0m \u001b[1;33m=\u001b[0m \u001b[0mself\u001b[0m\u001b[1;33m.\u001b[0m\u001b[0m_slow_forward\u001b[0m\u001b[1;33m(\u001b[0m\u001b[1;33m*\u001b[0m\u001b[0minput\u001b[0m\u001b[1;33m,\u001b[0m \u001b[1;33m**\u001b[0m\u001b[0mkwargs\u001b[0m\u001b[1;33m)\u001b[0m\u001b[1;33m\u001b[0m\u001b[0m\n\u001b[0;32m    356\u001b[0m         \u001b[1;32melse\u001b[0m\u001b[1;33m:\u001b[0m\u001b[1;33m\u001b[0m\u001b[0m\n\u001b[1;32m--> 357\u001b[1;33m             \u001b[0mresult\u001b[0m \u001b[1;33m=\u001b[0m \u001b[0mself\u001b[0m\u001b[1;33m.\u001b[0m\u001b[0mforward\u001b[0m\u001b[1;33m(\u001b[0m\u001b[1;33m*\u001b[0m\u001b[0minput\u001b[0m\u001b[1;33m,\u001b[0m \u001b[1;33m**\u001b[0m\u001b[0mkwargs\u001b[0m\u001b[1;33m)\u001b[0m\u001b[1;33m\u001b[0m\u001b[0m\n\u001b[0m\u001b[0;32m    358\u001b[0m         \u001b[1;32mfor\u001b[0m \u001b[0mhook\u001b[0m \u001b[1;32min\u001b[0m \u001b[0mself\u001b[0m\u001b[1;33m.\u001b[0m\u001b[0m_forward_hooks\u001b[0m\u001b[1;33m.\u001b[0m\u001b[0mvalues\u001b[0m\u001b[1;33m(\u001b[0m\u001b[1;33m)\u001b[0m\u001b[1;33m:\u001b[0m\u001b[1;33m\u001b[0m\u001b[0m\n\u001b[0;32m    359\u001b[0m             \u001b[0mhook_result\u001b[0m \u001b[1;33m=\u001b[0m \u001b[0mhook\u001b[0m\u001b[1;33m(\u001b[0m\u001b[0mself\u001b[0m\u001b[1;33m,\u001b[0m \u001b[0minput\u001b[0m\u001b[1;33m,\u001b[0m \u001b[0mresult\u001b[0m\u001b[1;33m)\u001b[0m\u001b[1;33m\u001b[0m\u001b[0m\n",
      "\u001b[1;32mE:\\Softwares\\Anaconda3\\envs\\py3\\lib\\site-packages\\torch\\nn\\modules\\loss.py\u001b[0m in \u001b[0;36mforward\u001b[1;34m(self, input, target)\u001b[0m\n\u001b[0;32m    677\u001b[0m         \u001b[0m_assert_no_grad\u001b[0m\u001b[1;33m(\u001b[0m\u001b[0mtarget\u001b[0m\u001b[1;33m)\u001b[0m\u001b[1;33m\u001b[0m\u001b[0m\n\u001b[0;32m    678\u001b[0m         return F.cross_entropy(input, target, self.weight, self.size_average,\n\u001b[1;32m--> 679\u001b[1;33m                                self.ignore_index, self.reduce)\n\u001b[0m\u001b[0;32m    680\u001b[0m \u001b[1;33m\u001b[0m\u001b[0m\n\u001b[0;32m    681\u001b[0m \u001b[1;33m\u001b[0m\u001b[0m\n",
      "\u001b[1;32mE:\\Softwares\\Anaconda3\\envs\\py3\\lib\\site-packages\\torch\\nn\\functional.py\u001b[0m in \u001b[0;36mcross_entropy\u001b[1;34m(input, target, weight, size_average, ignore_index, reduce)\u001b[0m\n\u001b[0;32m   1159\u001b[0m         \u001b[1;33m>>\u001b[0m\u001b[1;33m>\u001b[0m \u001b[0mloss\u001b[0m\u001b[1;33m.\u001b[0m\u001b[0mbackward\u001b[0m\u001b[1;33m(\u001b[0m\u001b[1;33m)\u001b[0m\u001b[1;33m\u001b[0m\u001b[0m\n\u001b[0;32m   1160\u001b[0m     \"\"\"\n\u001b[1;32m-> 1161\u001b[1;33m     \u001b[1;32mreturn\u001b[0m \u001b[0mnll_loss\u001b[0m\u001b[1;33m(\u001b[0m\u001b[0mlog_softmax\u001b[0m\u001b[1;33m(\u001b[0m\u001b[0minput\u001b[0m\u001b[1;33m,\u001b[0m \u001b[1;36m1\u001b[0m\u001b[1;33m)\u001b[0m\u001b[1;33m,\u001b[0m \u001b[0mtarget\u001b[0m\u001b[1;33m,\u001b[0m \u001b[0mweight\u001b[0m\u001b[1;33m,\u001b[0m \u001b[0msize_average\u001b[0m\u001b[1;33m,\u001b[0m \u001b[0mignore_index\u001b[0m\u001b[1;33m,\u001b[0m \u001b[0mreduce\u001b[0m\u001b[1;33m)\u001b[0m\u001b[1;33m\u001b[0m\u001b[0m\n\u001b[0m\u001b[0;32m   1162\u001b[0m \u001b[1;33m\u001b[0m\u001b[0m\n\u001b[0;32m   1163\u001b[0m \u001b[1;33m\u001b[0m\u001b[0m\n",
      "\u001b[1;32mE:\\Softwares\\Anaconda3\\envs\\py3\\lib\\site-packages\\torch\\nn\\functional.py\u001b[0m in \u001b[0;36mnll_loss\u001b[1;34m(input, target, weight, size_average, ignore_index, reduce)\u001b[0m\n\u001b[0;32m   1050\u001b[0m         \u001b[0mweight\u001b[0m \u001b[1;33m=\u001b[0m \u001b[0mVariable\u001b[0m\u001b[1;33m(\u001b[0m\u001b[0mweight\u001b[0m\u001b[1;33m)\u001b[0m\u001b[1;33m\u001b[0m\u001b[0m\n\u001b[0;32m   1051\u001b[0m     \u001b[1;32mif\u001b[0m \u001b[0mdim\u001b[0m \u001b[1;33m==\u001b[0m \u001b[1;36m2\u001b[0m\u001b[1;33m:\u001b[0m\u001b[1;33m\u001b[0m\u001b[0m\n\u001b[1;32m-> 1052\u001b[1;33m         \u001b[1;32mreturn\u001b[0m \u001b[0mtorch\u001b[0m\u001b[1;33m.\u001b[0m\u001b[0m_C\u001b[0m\u001b[1;33m.\u001b[0m\u001b[0m_nn\u001b[0m\u001b[1;33m.\u001b[0m\u001b[0mnll_loss\u001b[0m\u001b[1;33m(\u001b[0m\u001b[0minput\u001b[0m\u001b[1;33m,\u001b[0m \u001b[0mtarget\u001b[0m\u001b[1;33m,\u001b[0m \u001b[0mweight\u001b[0m\u001b[1;33m,\u001b[0m \u001b[0msize_average\u001b[0m\u001b[1;33m,\u001b[0m \u001b[0mignore_index\u001b[0m\u001b[1;33m,\u001b[0m \u001b[0mreduce\u001b[0m\u001b[1;33m)\u001b[0m\u001b[1;33m\u001b[0m\u001b[0m\n\u001b[0m\u001b[0;32m   1053\u001b[0m     \u001b[1;32melif\u001b[0m \u001b[0mdim\u001b[0m \u001b[1;33m==\u001b[0m \u001b[1;36m4\u001b[0m\u001b[1;33m:\u001b[0m\u001b[1;33m\u001b[0m\u001b[0m\n\u001b[0;32m   1054\u001b[0m         \u001b[1;32mreturn\u001b[0m \u001b[0mtorch\u001b[0m\u001b[1;33m.\u001b[0m\u001b[0m_C\u001b[0m\u001b[1;33m.\u001b[0m\u001b[0m_nn\u001b[0m\u001b[1;33m.\u001b[0m\u001b[0mnll_loss2d\u001b[0m\u001b[1;33m(\u001b[0m\u001b[0minput\u001b[0m\u001b[1;33m,\u001b[0m \u001b[0mtarget\u001b[0m\u001b[1;33m,\u001b[0m \u001b[0mweight\u001b[0m\u001b[1;33m,\u001b[0m \u001b[0msize_average\u001b[0m\u001b[1;33m,\u001b[0m \u001b[0mignore_index\u001b[0m\u001b[1;33m,\u001b[0m \u001b[0mreduce\u001b[0m\u001b[1;33m)\u001b[0m\u001b[1;33m\u001b[0m\u001b[0m\n",
      "\u001b[1;31mKeyboardInterrupt\u001b[0m: "
     ]
    }
   ],
   "source": [
    "averaged_loss = 0\n",
    "for epoch in range(1,MAX_ITERATION):\n",
    "    loss = train(*random_training_batch())\n",
    "    averaged_loss += loss\n",
    "    if epoch % PRINT_PER == 0:\n",
    "        valid_loss = train(valid_inputs,valid_tags)\n",
    "        print(\"epoch: \" + str(epoch) + \"\\ttrain_loss: \" + \n",
    "              str(averaged_loss/PRINT_PER) + \"\\tvalid_loss: \" +\n",
    "             str(valid_loss))\n",
    "        saved_train_loss.append(averaged_loss/PRINT_PER)\n",
    "        saved_valid_loss.append(valid_loss)\n",
    "        averaged_loss = 0\n",
    "    "
   ]
  },
  {
   "cell_type": "markdown",
   "metadata": {},
   "source": [
    "# Plot"
   ]
  },
  {
   "cell_type": "code",
   "execution_count": 18,
   "metadata": {},
   "outputs": [
    {
     "data": {
      "image/png": "[encoded data removed]",
      "text/plain": [
       "<Figure size 432x288 with 1 Axes>"
      ]
     },
     "metadata": {},
     "output_type": "display_data"
    }
   ],
   "source": [
    "plt.figure()\n",
    "plt.title('CharRNN Loss vs Epoch\\n'+'LAYERS = '+str(NUM_LAYER)+'   HIDDEN SIZE = '+str(HIDDEN_DIM)+'\\nOptimizer = Adam'+'   lr = '+str(LEARNING_RATE))\n",
    "plt.ylabel('Loss')\n",
    "plt.xlabel('epoch')\n",
    "plt.plot(saved_train_loss,'red')\n",
    "plt.plot(saved_valid_loss,'blue')\n",
    "plt.legend(['train loss','valid loss'])\n",
    "plt.savefig('HW4_CharRNN_loss_'+str(NUM_LAYER)+'_hidden_'+str(HIDDEN_DIM)+'_Adam_lr_'+str(LEARNING_RATE)[2:])\n",
    "plt.show()"
   ]
  },
  {
   "cell_type": "markdown",
   "metadata": {},
   "source": [
    "# Genreate New Content"
   ]
  },
  {
   "cell_type": "code",
   "execution_count": 19,
   "metadata": {},
   "outputs": [],
   "source": [
    "def generator(prime, gen_length, temperature):\n",
    "    hidden = model.hidden_init()\n",
    "    prime_tensor = char2tensor(prime)\n",
    "    result_str = prime\n",
    "    \n",
    "    # Initialize the model by prime input\n",
    "    for num in range(len(prime_tensor)-1):\n",
    "        _, hidden = model(prime_tensor[num], hidden)\n",
    "    inputs = prime_tensor[-1]\n",
    "    \n",
    "    # Start generating\n",
    "    for count in range(gen_length):\n",
    "        output, hidden = model(inputs, hidden)\n",
    "        \n",
    "        # Get Predict Result based on the probability divided by temperature\n",
    "        p_dist = output.data.view(-1).div(temperature).exp()\n",
    "        result_idx = torch.multinomial(p_dist, 1)[0]\n",
    "\n",
    "        # Collect the predicted result\n",
    "        next_char = all_chars[result_idx]\n",
    "        result_str += next_char\n",
    "        inputs = char2tensor(next_char)\n",
    "    \n",
    "    return result_str"
   ]
  },
  {
   "cell_type": "code",
   "execution_count": 22,
   "metadata": {},
   "outputs": [
    {
     "name": "stdout",
     "output_type": "stream",
     "text": [
      "CORIOLANUS:\n",
      "Which the groshiness stay the grace of the quent and say late speak of of go it is the at of the not the dost a the consteep and shouse at she the good and how sun a son shrown to are shall his souls and say a son hath so stalt:\n",
      "\n",
      "KING RICHARD III:\n",
      "I shall not the worth shipot there are the shouse the still of the father shirly be and must good and with have it be thee for have a speak of the seen hath liven gone a give shouse have so the so with you the good, and morts go thy world and he disture at the pity the say and south lord, and so be we the good that the gosse:\n",
      "Words have the strong a should should the he be of this son the son and slail the says in her a manion looks and worster.\n",
      "\n",
      "KING RICHARD III:\n",
      "What the be him shall good and all the she say shall him.\n",
      "\n",
      "KING RICHOLIO:\n",
      "Ge a good blood reath good the stain the be not the latter the some shall the say in your so soned have stay the quend good she grace.\n",
      "\n",
      "KING RICHARD III:\n",
      "I shall got give she she she here the marbond of serving should should a parts by her shall the fire a the gute gided he at your grants steary say of say, and what shall good and the shall be our the good it at have and shill him; and the good, for stall and say not his daught, which and the give the bodso his by when streath we should so is me have ston hon of hath a we have bodsion of this sonst and spit a so say see sind and the sir, and queen we her to say a lord\n",
      "Where had hour himself and the bodsing to the father of both and the songe him the good, and the sonds and your and what be may be the for but his son the with thou sir,\n",
      "As have good in that a good and the this not to his she the with see with have the so many she good it of a good and she she hust, and this not the good,\n",
      "What be again the say her at bood himself not as the of a dismed which be it with them and with shall the see him see the lord, and should the chis parted with that shall good so the so it is the good say the guetial the all we my say, which we a sperche to as his shill shall she with of her it a stick words the be the latter and sir, may the sturn seen I shall should at should say show show and from should senoward in this it and and the head with the mess should and she was a she his striest a words of the son'd and the good say,\n",
      "I am the good shill the good and and and stalt words the words.\n",
      "\n",
      "HENRY VINGER:\n",
      "Whyself and he with the lord, and his son and the souls not and I work and and were the strear all your do a sppond, she we this is the lord, he head the stient death good the is so am shall him.\n",
      "What the fair the graits the good so and thriest the it the lord, go so bold, ston all the be the sance a the lord,\n",
      "\n",
      "QUEENIUS:\n",
      "What sun see for be that have it to as a say grave a the lord, it with good,\n",
      "And father this stay the good some a good the mantory and him such of I say, and the not say, good unsusson the sistrecting me the sir, the in this at the hearth against, and she bodself and hall good speak of the better his seath of the ablong all and a son, and should I that so hath and have of at the good and be a son the tide how so be and it of the mattering say of that, it see she shall say.\n",
      "\n",
      "MENENIUS:\n",
      "What the sown the all sing undow, and his son this say and is shall so say as to she she with a give and the good she this and street, and a she father show she give a love, and the good say, of and the guition.\n",
      "\n",
      "KING RICHARD III:\n",
      "What we says who and who string of shall go the stay stray, and the say, of not, I she have warry and and gived, and good do to be the sourse at for the he greath it and the son'd be a pense the not as the so good the genter the wear be who be shall that the some be of who that in shall and thou we love with the go did a sours and of the but and be suther: and the greath the still the strent good see the says of should shall the glow should not, she for the with so art of the son in the souls and sens and the son, and this sow the some at with this see at a with the seather the soft it sir, strent stay she hath the son, thou all thee be of thou words and the too and gather stay sir?\n",
      "\n",
      "KING RICHARD III:\n",
      "Why, should and and spit misting a streid a grent the go a as so most a good of the some it upon should she a love, be a goded and the all thee it see hight all us it the man and and had the comsonious and the the so with a piting and be a for stay and of thy not and thy good sleak the like to queat, and of at not the sir, and still in the bacouse and at the soft the for sawillow so turning sweet and seath is should say in that the father so shis see the lord, say the not it the sir, you shall so is with so shall good shall rave the with strill of the not.\n",
      "\n",
      "Nursed not it in say the so with good, and shall shall do son a giver to she the by this she with this poor a pouse is so says have with the heart at so should and hanger and so he be and grack in the grosh and the queen and the be the son'd of sir, should thou at shall should be the all thou good stright like the hangs a\n"
     ]
    }
   ],
   "source": [
    "PRIME = 'CORIOLANUS:'\n",
    "PREDICT_LENGTH = 5000\n",
    "T = 0.5\n",
    "print(generator(PRIME,PREDICT_LENGTH,T))"
   ]
  },
  {
   "cell_type": "code",
   "execution_count": null,
   "metadata": {},
   "outputs": [],
   "source": []
  },
  {
   "cell_type": "code",
   "execution_count": null,
   "metadata": {},
   "outputs": [],
   "source": []
  }
 ],
 "metadata": {
  "kernelspec": {
   "display_name": "Python 3",
   "language": "python",
   "name": "python3"
  },
  "language_info": {
   "codemirror_mode": {
    "name": "ipython",
    "version": 3
   },
   "file_extension": ".py",
   "mimetype": "text/x-python",
   "name": "python",
   "nbconvert_exporter": "python",
   "pygments_lexer": "ipython3",
   "version": "3.6.4"
  }
 },
 "nbformat": 4,
 "nbformat_minor": 2
}
