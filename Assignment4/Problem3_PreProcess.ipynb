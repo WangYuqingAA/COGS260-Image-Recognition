{
 "cells": [
  {
   "cell_type": "code",
   "execution_count": 46,
   "metadata": {},
   "outputs": [],
   "source": [
    "import cv2\n",
    "import math\n",
    "import numpy as np"
   ]
  },
  {
   "cell_type": "code",
   "execution_count": 55,
   "metadata": {},
   "outputs": [
    {
     "data": {
      "text/plain": [
       "(168, 300, 3)"
      ]
     },
     "execution_count": 55,
     "metadata": {},
     "output_type": "execute_result"
    }
   ],
   "source": [
    "dog = cv2.imread(\"./img/dog.jpg\")\n",
    "dog.shape"
   ]
  },
  {
   "cell_type": "code",
   "execution_count": 48,
   "metadata": {},
   "outputs": [],
   "source": [
    "def collage_maker(img,dim,size):\n",
    "    collage = np.hstack([np.vstack([img]*dim)]*dim)\n",
    "    res=cv2.resize(collage,(1000,1000),interpolation=cv2.INTER_CUBIC)\n",
    "    return res\n",
    "\n",
    "def show_img(img):\n",
    "    cv2.imshow('image',img)\n",
    "    cv2.waitKey(0)\n",
    "    cv2.destroyAllWindows()"
   ]
  },
  {
   "cell_type": "markdown",
   "metadata": {},
   "source": [
    "# Make Collages"
   ]
  },
  {
   "cell_type": "code",
   "execution_count": 49,
   "metadata": {},
   "outputs": [],
   "source": [
    "DIM = 16\n",
    "RESIZE = 1000\n",
    "collage = np.hstack([np.vstack([dog]*DIM)]*DIM)\n",
    "res=cv2.resize(collage,(RESIZE,RESIZE),interpolation=cv2.INTER_CUBIC)"
   ]
  },
  {
   "cell_type": "code",
   "execution_count": 50,
   "metadata": {},
   "outputs": [
    {
     "data": {
      "text/plain": [
       "True"
      ]
     },
     "execution_count": 50,
     "metadata": {},
     "output_type": "execute_result"
    }
   ],
   "source": [
    "show_img(res)\n",
    "cv2.imwrite(\"collage_\" + str(DIM) + \"x\" + str(DIM) + \"_dog.jpg\",collage)"
   ]
  },
  {
   "cell_type": "markdown",
   "metadata": {},
   "source": [
    "# Rotate"
   ]
  },
  {
   "cell_type": "code",
   "execution_count": 58,
   "metadata": {},
   "outputs": [],
   "source": [
    "ANGLE = [0,30,60,90,120,150,180,210,240,270,300,330]\n",
    "h,w = dog.shape[0], dog.shape[1]\n",
    "scale = 1\n",
    "\n",
    "for angle in ANGLE:\n",
    "    dog = cv2.imread(\"dog.jpg\")\n",
    "    rangle = np.deg2rad(angle)\n",
    "\n",
    "    # new hight and width\n",
    "    nw = (abs(np.sin(rangle)*h) + abs(np.cos(rangle)*w))*scale\n",
    "    nh = (abs(np.cos(rangle)*h) + abs(np.sin(rangle)*w))*scale\n",
    "    \n",
    "    # rotation matrix\n",
    "    rot_mat = cv2.getRotationMatrix2D((nw*0.5, nh*0.5), angle, scale)\n",
    "    rot_move = np.dot(rot_mat, np.array([(nw-w)*0.5, (nh-h)*0.5,0]))\n",
    "    rot_mat[0,2] += rot_move[0]\n",
    "    rot_mat[1,2] += rot_move[1]\n",
    "    \n",
    "    result = cv2.warpAffine(dog, rot_mat, (int(math.ceil(nw)), int(math.ceil(nh))), flags=cv2.INTER_LANCZOS4)\n",
    "    #show_img(result)\n",
    "    \n",
    "    cv2.imwrite(\"rotate_\" + str(angle) + \"_dog.jpg\",result)"
   ]
  },
  {
   "cell_type": "code",
   "execution_count": null,
   "metadata": {},
   "outputs": [],
   "source": []
  },
  {
   "cell_type": "code",
   "execution_count": null,
   "metadata": {},
   "outputs": [],
   "source": []
  }
 ],
 "metadata": {
  "kernelspec": {
   "display_name": "Python 3",
   "language": "python",
   "name": "python3"
  },
  "language_info": {
   "codemirror_mode": {
    "name": "ipython",
    "version": 3
   },
   "file_extension": ".py",
   "mimetype": "text/x-python",
   "name": "python",
   "nbconvert_exporter": "python",
   "pygments_lexer": "ipython3",
   "version": "3.6.4"
  }
 },
 "nbformat": 4,
 "nbformat_minor": 2
}
