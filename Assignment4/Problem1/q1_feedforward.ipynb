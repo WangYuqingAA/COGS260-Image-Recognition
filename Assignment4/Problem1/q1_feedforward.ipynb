{
 "cells": [
  {
   "cell_type": "code",
   "execution_count": 1,
   "metadata": {},
   "outputs": [],
   "source": [
    "import numpy as np\n",
    "import matplotlib.pyplot as plt\n",
    "from utils import get_q1_data\n",
    "%matplotlib inline\n",
    "plt.rcParams['figure.figsize'] = 8,8"
   ]
  },
  {
   "cell_type": "code",
   "execution_count": 2,
   "metadata": {
    "scrolled": true
   },
   "outputs": [
    {
     "name": "stdout",
     "output_type": "stream",
     "text": [
      "70 training samples, 30 test samples\n",
      "classes: [b'Iris-versicolor' b'Iris-virginica']\n",
      "The first 10 training samples are (with bias):\n",
      "[[1.  5.6 3.  4.1 1.3]\n",
      " [1.  5.5 2.5 4.  1.3]\n",
      " [1.  5.5 2.6 4.4 1.2]\n",
      " [1.  6.1 3.  4.6 1.4]\n",
      " [1.  5.8 2.6 4.  1.2]\n",
      " [1.  5.  2.3 3.3 1. ]\n",
      " [1.  5.6 2.7 4.2 1.3]\n",
      " [1.  5.7 3.  4.2 1.2]\n",
      " [1.  5.7 2.9 4.2 1.3]\n",
      " [1.  6.2 2.9 4.3 1.3]]\n"
     ]
    }
   ],
   "source": [
    "X_train, X_test, y_train, y_test, le = get_q1_data()\n",
    "print(\"%d training samples, %d test samples\"%(X_train.shape[0], X_test.shape[0]))\n",
    "print(\"classes:\", le.classes_)\n",
    "print(\"The first 10 training samples are (with bias):\")\n",
    "print(X_train[:10])"
   ]
  },
  {
   "cell_type": "code",
   "execution_count": 4,
   "metadata": {},
   "outputs": [
    {
     "data": {
      "text/plain": [
       "30"
      ]
     },
     "execution_count": 4,
     "metadata": {},
     "output_type": "execute_result"
    }
   ],
   "source": [
    "len(X_test)"
   ]
  },
  {
   "cell_type": "markdown",
   "metadata": {},
   "source": [
    "### 1. Implement sigmoid function\n",
    "\\begin{align}\n",
    "sigmoid(x) & = \\frac{1}{1+e^{-x}} \\\\\n",
    "\\end{align}\n",
    "<img src=\"Figures/logistic.png\">"
   ]
  },
  {
   "cell_type": "code",
   "execution_count": 3,
   "metadata": {},
   "outputs": [],
   "source": [
    "def sigmoid(x):\n",
    "    ### TODO: Fill this function with your implementation of sigmoid function ####\n",
    "    return 1/(1+np.exp(-x)) "
   ]
  },
  {
   "cell_type": "markdown",
   "metadata": {},
   "source": [
    "### 2. Implement cross entropy\n",
    "For binary classification for all samples with the output vector o and target label t $\\in \\{0, 1\\}$:\n",
    "\\begin{align}\n",
    "L(o, t) & = - \\sum_{i=1}^n(t^{(i)}log(o^{(i)}) + (1-t^{i})log(1-o^{i})) \\\\\n",
    "\\end{align}"
   ]
  },
  {
   "cell_type": "code",
   "execution_count": 4,
   "metadata": {},
   "outputs": [],
   "source": [
    "def crossentropy(o,t):\n",
    "    ### o is the output, t is the target.\n",
    "    ### TODO: Fill this function with your implementation of crossentropy function for all samples ####\n",
    "    return -np.sum(t*np.log(o)+(1-t)*np.log(1-o))"
   ]
  },
  {
   "cell_type": "markdown",
   "metadata": {},
   "source": [
    "### 3. Initialize weights\n",
    "For weight initialization, please refer to http://cs231n.github.io/neural-networks-2/#init.\n",
    "\n",
    "Here we are building a feed forward neural network with 2 hidden units as shown below. \n",
    "<img src=\"Figures/nn.png\">"
   ]
  },
  {
   "cell_type": "code",
   "execution_count": 9,
   "metadata": {},
   "outputs": [],
   "source": [
    "J = 2 # number of hidden units\n",
    "### TODO: Fill the information for weight initialization ###\n",
    "w1 = np.random.random((X_train.shape[1],J))-0.5 # initialize weights with calibration between input and hidden layer.\n",
    "w2 = np.random.random((J+1,1))-0.5 # initialize weights with calibration between hidden and output layer.\n",
    "n_iter = 10000 # can be modified\n",
    "alpha = 2e-3 # can be modified\n",
    "train_err = []\n",
    "test_err = []\n",
    "dw1_ = []\n",
    "train_loss = []"
   ]
  },
  {
   "cell_type": "markdown",
   "metadata": {},
   "source": [
    "### 4. Implement gradient descent for n iterations.\n",
    "Implement the update dw1 and dw2 based on your derivations for \\begin{align}\n",
    "\\frac{\\delta L}{\\delta w_2}, \n",
    "\\frac{\\delta L}{\\delta w_1}\n",
    "\\end{align}"
   ]
  },
  {
   "cell_type": "code",
   "execution_count": 10,
   "metadata": {
    "scrolled": false
   },
   "outputs": [],
   "source": [
    "### TODO: Fill the blanks below for gradient descent ###\n",
    "for n in range(n_iter):\n",
    "    # forward computation\n",
    "    a = np.dot(X_train,w1)\n",
    "    z = sigmoid(a)\n",
    "    z_bias = np.hstack((np.ones((z.shape[0],1)),z))\n",
    "    output = sigmoid(np.dot(z_bias,w2))\n",
    "    # backward computation to calculate dw1 and dw2\n",
    "    delta_k = y_train-output\n",
    "    dw2 = np.dot(z_bias.T,delta_k)\n",
    "    grad_sigmoid = np.multiply(1-z,z)\n",
    "    delta_j = np.multiply(grad_sigmoid,np.dot(delta_k,w2[1:].T))\n",
    "    dw1 = np.dot(X_train.T,delta_j)\n",
    "    # weight updating\n",
    "    w1 = w1 + alpha*dw1\n",
    "    w2 = w2 + alpha*dw2\n",
    "    # training error\n",
    "    y_predict = np.greater_equal(output,0.5).astype(int)\n",
    "    train_err.append(np.sum(np.not_equal(y_predict-y_train,0).astype(int))/len(X_train)) # calculate the error and append to train_err\n",
    "    # training loss\n",
    "    train_loss.append(crossentropy(output,y_train)) # use your crossentropy to calculate the loss\n",
    "    # test error\n",
    "    a = np.dot(X_test,w1)\n",
    "    z = sigmoid(a)\n",
    "    z_bias = np.hstack((np.ones((z.shape[0],1)),z))\n",
    "    output = sigmoid(np.dot(z_bias,w2))\n",
    "    y_predict = np.greater_equal(output,0.5).astype(int)\n",
    "    test_err.append(np.sum(np.not_equal(y_test-y_predict,0).astype(int))/len(X_test))"
   ]
  },
  {
   "cell_type": "markdown",
   "metadata": {},
   "source": [
    "### 5. Print training loss vs number of iterations"
   ]
  },
  {
   "cell_type": "code",
   "execution_count": 11,
   "metadata": {},
   "outputs": [
    {
     "data": {
      "image/png": "[encoded data removed]",
      "text/plain": [
       "<Figure size 432x288 with 1 Axes>"
      ]
     },
     "metadata": {},
     "output_type": "display_data"
    }
   ],
   "source": [
    "plt.figure()\n",
    "plt.title(\"Training Loss vs Number of Iterations\")\n",
    "plt.plot(train_loss)\n",
    "plt.ylabel(\"Training Loss\")\n",
    "plt.xlabel(\"Number of Iterations\")\n",
    "plt.show()"
   ]
  },
  {
   "cell_type": "markdown",
   "metadata": {},
   "source": [
    "### 6. Print training error and test error"
   ]
  },
  {
   "cell_type": "code",
   "execution_count": 12,
   "metadata": {
    "scrolled": true
   },
   "outputs": [
    {
     "data": {
      "image/png": "[encoded data removed]",
      "text/plain": [
       "<Figure size 432x288 with 1 Axes>"
      ]
     },
     "metadata": {},
     "output_type": "display_data"
    }
   ],
   "source": [
    "plt.figure()\n",
    "plt.title(\"Training Error and Test Error vs Number of Iterations\")\n",
    "plt.plot(train_err)\n",
    "plt.plot(test_err)\n",
    "plt.ylabel(\"Error\")\n",
    "plt.xlabel(\"Number of Iterations\")\n",
    "plt.legend([\"Train Error\",\"Test Error\"])\n",
    "plt.show()"
   ]
  },
  {
   "cell_type": "code",
   "execution_count": 15,
   "metadata": {},
   "outputs": [
    {
     "data": {
      "text/plain": [
       "0.4226336107798739"
      ]
     },
     "execution_count": 15,
     "metadata": {},
     "output_type": "execute_result"
    }
   ],
   "source": [
    "train_loss[-1]"
   ]
  },
  {
   "cell_type": "code",
   "execution_count": 13,
   "metadata": {},
   "outputs": [
    {
     "data": {
      "text/plain": [
       "0.0"
      ]
     },
     "execution_count": 13,
     "metadata": {},
     "output_type": "execute_result"
    }
   ],
   "source": [
    "train_err[-1]"
   ]
  },
  {
   "cell_type": "code",
   "execution_count": 14,
   "metadata": {},
   "outputs": [
    {
     "data": {
      "text/plain": [
       "0.13333333333333333"
      ]
     },
     "execution_count": 14,
     "metadata": {},
     "output_type": "execute_result"
    }
   ],
   "source": [
    "test_err[-1]"
   ]
  },
  {
   "cell_type": "code",
   "execution_count": null,
   "metadata": {},
   "outputs": [],
   "source": []
  }
 ],
 "metadata": {
  "kernelspec": {
   "display_name": "Python 3",
   "language": "python",
   "name": "python3"
  },
  "language_info": {
   "codemirror_mode": {
    "name": "ipython",
    "version": 3
   },
   "file_extension": ".py",
   "mimetype": "text/x-python",
   "name": "python",
   "nbconvert_exporter": "python",
   "pygments_lexer": "ipython3",
   "version": "3.6.4"
  }
 },
 "nbformat": 4,
 "nbformat_minor": 2
}
