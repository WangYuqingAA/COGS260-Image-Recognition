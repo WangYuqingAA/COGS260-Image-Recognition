{
 "cells": [
  {
   "cell_type": "markdown",
   "metadata": {},
   "source": [
    "# CharRNN"
   ]
  },
  {
   "cell_type": "markdown",
   "metadata": {},
   "source": [
    "# Import"
   ]
  },
  {
   "cell_type": "markdown",
   "metadata": {},
   "source": [
    "For Data Processing"
   ]
  },
  {
   "cell_type": "code",
   "execution_count": 1,
   "metadata": {},
   "outputs": [],
   "source": [
    "import re\n",
    "import random\n",
    "import string"
   ]
  },
  {
   "cell_type": "markdown",
   "metadata": {},
   "source": [
    "For Model Building"
   ]
  },
  {
   "cell_type": "code",
   "execution_count": 2,
   "metadata": {},
   "outputs": [],
   "source": [
    "import torch\n",
    "import torch.nn as nn\n",
    "from torch.autograd import Variable"
   ]
  },
  {
   "cell_type": "markdown",
   "metadata": {},
   "source": [
    "For PostProcessing"
   ]
  },
  {
   "cell_type": "code",
   "execution_count": 3,
   "metadata": {},
   "outputs": [],
   "source": [
    "import matplotlib.pyplot as plt"
   ]
  },
  {
   "cell_type": "markdown",
   "metadata": {},
   "source": [
    "# Read Data"
   ]
  },
  {
   "cell_type": "code",
   "execution_count": 4,
   "metadata": {},
   "outputs": [],
   "source": [
    "all_chars = string.printable\n",
    "total_num_chars = len(all_chars)\n",
    "\n",
    "f = open(\"./Data/tinyshakespeare.txt\",\"r\")\n",
    "content = f.read()\n",
    "content_length = len(content)"
   ]
  },
  {
   "cell_type": "markdown",
   "metadata": {},
   "source": [
    "Split Train and Valid"
   ]
  },
  {
   "cell_type": "code",
   "execution_count": 5,
   "metadata": {},
   "outputs": [],
   "source": [
    "train_chars = content[:-5000]\n",
    "valid_chars = content[-5000:]"
   ]
  },
  {
   "cell_type": "markdown",
   "metadata": {},
   "source": [
    "Obtain Mini-batch, define size of mini-batch here"
   ]
  },
  {
   "cell_type": "code",
   "execution_count": 6,
   "metadata": {},
   "outputs": [],
   "source": [
    "MINIBATCH = 200"
   ]
  },
  {
   "cell_type": "markdown",
   "metadata": {},
   "source": [
    "Useful Functions for Feature Generation"
   ]
  },
  {
   "cell_type": "code",
   "execution_count": 7,
   "metadata": {},
   "outputs": [],
   "source": [
    "def random_batch_char():\n",
    "    random_index = random.randint(0, len(train_chars) - MINIBATCH-1)\n",
    "    return train_chars[random_index:random_index+MINIBATCH+1]"
   ]
  },
  {
   "cell_type": "code",
   "execution_count": 8,
   "metadata": {},
   "outputs": [],
   "source": [
    "def char2tensor(inputs):\n",
    "    t = torch.zeros(len(inputs)).long()\n",
    "    for count in range(len(inputs)):\n",
    "        t[count] = all_chars.index(inputs[count])\n",
    "    return Variable(t)"
   ]
  },
  {
   "cell_type": "code",
   "execution_count": 9,
   "metadata": {},
   "outputs": [],
   "source": [
    "def random_training_batch():\n",
    "    batch_chars = random_batch_char()\n",
    "    inputs = char2tensor(batch_chars[:-1])\n",
    "    tags = char2tensor(batch_chars[1:])\n",
    "    return inputs, tags"
   ]
  },
  {
   "cell_type": "markdown",
   "metadata": {},
   "source": [
    "# Define Model"
   ]
  },
  {
   "cell_type": "code",
   "execution_count": 10,
   "metadata": {},
   "outputs": [],
   "source": [
    "class RNN(nn.Module):\n",
    "    def __init__(self,input_dim, hidden_dim, output_dim, n_layers=1):\n",
    "        super(RNN,self).__init__()\n",
    "        self.input_dim = input_dim\n",
    "        self.hidden_dim = hidden_dim\n",
    "        self.output_dim = output_dim\n",
    "        self.n_layers = n_layers\n",
    "        \n",
    "        self.encoder = nn.Embedding(input_dim, hidden_dim)\n",
    "        self.net = nn.RNN(hidden_dim, hidden_dim, n_layers)\n",
    "        self.decoder = nn.Linear(hidden_dim, output_dim)\n",
    "        \n",
    "    def forward(self, inputs, hidden):\n",
    "        inputs = self.encoder(inputs.view(1,-1))\n",
    "        output, hidden = self.net(inputs.view(1,1,-1),hidden)\n",
    "        output = self.decoder(output.view(1,-1))\n",
    "        return output, hidden\n",
    "    \n",
    "    def hidden_init(self):\n",
    "        return Variable(torch.zeros(self.n_layers, 1, self.hidden_dim))"
   ]
  },
  {
   "cell_type": "markdown",
   "metadata": {},
   "source": [
    "Configure Parameter"
   ]
  },
  {
   "cell_type": "code",
   "execution_count": 12,
   "metadata": {},
   "outputs": [],
   "source": [
    "NUM_LAYER = 2\n",
    "HIDDEN_DIM = 100\n",
    "model = RNN(total_num_chars, HIDDEN_DIM, total_num_chars, NUM_LAYER)"
   ]
  },
  {
   "cell_type": "markdown",
   "metadata": {},
   "source": [
    "# Training Process"
   ]
  },
  {
   "cell_type": "code",
   "execution_count": 13,
   "metadata": {},
   "outputs": [],
   "source": [
    "MAX_ITERATION = 20000\n",
    "PRINT_PER = 100\n",
    "LEARNING_RATE = 0.005"
   ]
  },
  {
   "cell_type": "code",
   "execution_count": 14,
   "metadata": {},
   "outputs": [],
   "source": [
    "model_optimizer = torch.optim.Adam(model.parameters(), lr=LEARNING_RATE)\n",
    "criterion = nn.CrossEntropyLoss()"
   ]
  },
  {
   "cell_type": "code",
   "execution_count": 15,
   "metadata": {},
   "outputs": [],
   "source": [
    "def train(inputs, tags):\n",
    "    hidden = model.hidden_init()\n",
    "    model.zero_grad()\n",
    "    loss = 0\n",
    "    for count in range(MINIBATCH):\n",
    "        output, hidden = model(inputs[count], hidden)\n",
    "        loss += criterion(output, tags[count])  \n",
    "    loss.backward()\n",
    "    model_optimizer.step()\n",
    "    return loss.data[0]/MINIBATCH\n",
    "\n",
    "def valid(inputs, tags):\n",
    "    hidden = model.hidden_init()\n",
    "    model.zero_grad()\n",
    "    loss = 0\n",
    "    for count in range(len(inputs)):\n",
    "        output, hidden = model(inputs[count], hidden)\n",
    "        loss += criterion(output, tags[count]) \n",
    "    return loss.data[0]/len(inputs)"
   ]
  },
  {
   "cell_type": "code",
   "execution_count": 16,
   "metadata": {},
   "outputs": [],
   "source": [
    "saved_train_loss = []\n",
    "saved_valid_loss = []"
   ]
  },
  {
   "cell_type": "code",
   "execution_count": 17,
   "metadata": {},
   "outputs": [],
   "source": [
    "valid_inputs = char2tensor(valid_chars[:-1])\n",
    "valid_tags = char2tensor(valid_chars[1:])"
   ]
  },
  {
   "cell_type": "code",
   "execution_count": 18,
   "metadata": {},
   "outputs": [
    {
     "name": "stdout",
     "output_type": "stream",
     "text": [
      "epoch: 100\ttrain_loss: 2.6798820022582994\tvalid_loss: 2.31484619140625\n",
      "epoch: 200\ttrain_loss: 2.2587296020507814\tvalid_loss: 2.2268080139160156\n",
      "epoch: 300\ttrain_loss: 2.1239385696411124\tvalid_loss: 2.1820521545410156\n",
      "epoch: 400\ttrain_loss: 2.0760495422363268\tvalid_loss: 2.1079635620117188\n",
      "epoch: 500\ttrain_loss: 2.0276438873291016\tvalid_loss: 2.004838562011719\n",
      "epoch: 600\ttrain_loss: 2.009122587585449\tvalid_loss: 1.9932798767089843\n",
      "epoch: 700\ttrain_loss: 1.9678204635620116\tvalid_loss: 1.972063751220703\n",
      "epoch: 800\ttrain_loss: 1.957312049865723\tvalid_loss: 1.923255615234375\n",
      "epoch: 900\ttrain_loss: 1.947547811889648\tvalid_loss: 1.9444371032714844\n",
      "epoch: 1000\ttrain_loss: 1.9014023727417\tvalid_loss: 1.9235942077636718\n",
      "epoch: 1100\ttrain_loss: 1.890026623535156\tvalid_loss: 1.9400015258789063\n",
      "epoch: 1200\ttrain_loss: 1.905540193176269\tvalid_loss: 1.8672660827636718\n",
      "epoch: 1300\ttrain_loss: 1.9127606140136717\tvalid_loss: 1.8799786376953125\n",
      "epoch: 1400\ttrain_loss: 1.8600975112915037\tvalid_loss: 1.8276248168945313\n",
      "epoch: 1500\ttrain_loss: 1.843478202819824\tvalid_loss: 1.7915653991699219\n",
      "epoch: 1600\ttrain_loss: 1.8691399734497065\tvalid_loss: 1.822392578125\n",
      "epoch: 1700\ttrain_loss: 1.8476002105712885\tvalid_loss: 1.7997126770019531\n",
      "epoch: 1800\ttrain_loss: 1.8611812469482416\tvalid_loss: 1.8552540588378905\n",
      "epoch: 1900\ttrain_loss: 1.8637700302124025\tvalid_loss: 1.7862821960449218\n",
      "epoch: 2000\ttrain_loss: 1.844546403503418\tvalid_loss: 1.740892333984375\n",
      "epoch: 2100\ttrain_loss: 1.8265657058715832\tvalid_loss: 1.8274107360839844\n",
      "epoch: 2200\ttrain_loss: 1.8557474868774417\tvalid_loss: 1.7390226745605468\n",
      "epoch: 2300\ttrain_loss: 1.8221994628906253\tvalid_loss: 1.7705010986328125\n",
      "epoch: 2400\ttrain_loss: 1.8346819213867192\tvalid_loss: 1.7901451110839843\n",
      "epoch: 2500\ttrain_loss: 1.8084943023681648\tvalid_loss: 1.7159039306640624\n",
      "epoch: 2600\ttrain_loss: 1.8099428573608405\tvalid_loss: 1.7165617370605468\n",
      "epoch: 2700\ttrain_loss: 1.8403576461791993\tvalid_loss: 1.6376948547363281\n",
      "epoch: 2800\ttrain_loss: 1.8288572265624985\tvalid_loss: 1.7191545104980468\n",
      "epoch: 2900\ttrain_loss: 1.8226393386840822\tvalid_loss: 1.6649636840820312\n",
      "epoch: 3000\ttrain_loss: 1.8338936950683589\tvalid_loss: 1.6889668273925782\n",
      "epoch: 3100\ttrain_loss: 1.8201322822570793\tvalid_loss: 1.710210418701172\n",
      "epoch: 3200\ttrain_loss: 1.8346660736083984\tvalid_loss: 1.6978164672851563\n",
      "epoch: 3300\ttrain_loss: 1.822383563232421\tvalid_loss: 1.7822799682617188\n",
      "epoch: 3400\ttrain_loss: 1.8129847396850587\tvalid_loss: 1.6976432800292969\n",
      "epoch: 3500\ttrain_loss: 1.8117149978637683\tvalid_loss: 1.6984803771972656\n",
      "epoch: 3600\ttrain_loss: 1.8279824218750005\tvalid_loss: 1.699202117919922\n",
      "epoch: 3700\ttrain_loss: 1.7693242118835446\tvalid_loss: 1.744981231689453\n",
      "epoch: 3800\ttrain_loss: 1.818021514129639\tvalid_loss: 1.6994924926757813\n",
      "epoch: 3900\ttrain_loss: 1.8331505111694328\tvalid_loss: 1.6840451049804688\n",
      "epoch: 4000\ttrain_loss: 1.804010488891602\tvalid_loss: 1.7420172119140624\n",
      "epoch: 4100\ttrain_loss: 1.7969540267944333\tvalid_loss: 1.7580473327636719\n",
      "epoch: 4200\ttrain_loss: 1.794580972290039\tvalid_loss: 1.687096405029297\n",
      "epoch: 4300\ttrain_loss: 1.7865820495605462\tvalid_loss: 1.6629341125488282\n",
      "epoch: 4400\ttrain_loss: 1.790443223571777\tvalid_loss: 1.6639659118652343\n",
      "epoch: 4500\ttrain_loss: 1.785898860168458\tvalid_loss: 1.6646316528320313\n",
      "epoch: 4600\ttrain_loss: 1.8057518615722652\tvalid_loss: 1.6654104614257812\n",
      "epoch: 4700\ttrain_loss: 1.814323983764648\tvalid_loss: 1.663730926513672\n",
      "epoch: 4800\ttrain_loss: 1.8144139892578133\tvalid_loss: 1.7351197814941406\n",
      "epoch: 4900\ttrain_loss: 1.8099155044555661\tvalid_loss: 1.611251983642578\n",
      "epoch: 5000\ttrain_loss: 1.7961801254272467\tvalid_loss: 1.688433380126953\n"
     ]
    },
    {
     "ename": "KeyboardInterrupt",
     "evalue": "",
     "output_type": "error",
     "traceback": [
      "\u001b[1;31m---------------------------------------------------------------------------\u001b[0m",
      "\u001b[1;31mKeyboardInterrupt\u001b[0m                         Traceback (most recent call last)",
      "\u001b[1;32m<ipython-input-18-03fef0ee8f28>\u001b[0m in \u001b[0;36m<module>\u001b[1;34m()\u001b[0m\n\u001b[0;32m      1\u001b[0m \u001b[0maveraged_loss\u001b[0m \u001b[1;33m=\u001b[0m \u001b[1;36m0\u001b[0m\u001b[1;33m\u001b[0m\u001b[0m\n\u001b[0;32m      2\u001b[0m \u001b[1;32mfor\u001b[0m \u001b[0mepoch\u001b[0m \u001b[1;32min\u001b[0m \u001b[0mrange\u001b[0m\u001b[1;33m(\u001b[0m\u001b[1;36m1\u001b[0m\u001b[1;33m,\u001b[0m\u001b[0mMAX_ITERATION\u001b[0m\u001b[1;33m)\u001b[0m\u001b[1;33m:\u001b[0m\u001b[1;33m\u001b[0m\u001b[0m\n\u001b[1;32m----> 3\u001b[1;33m     \u001b[0mloss\u001b[0m \u001b[1;33m=\u001b[0m \u001b[0mtrain\u001b[0m\u001b[1;33m(\u001b[0m\u001b[1;33m*\u001b[0m\u001b[0mrandom_training_batch\u001b[0m\u001b[1;33m(\u001b[0m\u001b[1;33m)\u001b[0m\u001b[1;33m)\u001b[0m\u001b[1;33m\u001b[0m\u001b[0m\n\u001b[0m\u001b[0;32m      4\u001b[0m     \u001b[0maveraged_loss\u001b[0m \u001b[1;33m+=\u001b[0m \u001b[0mloss\u001b[0m\u001b[1;33m\u001b[0m\u001b[0m\n\u001b[0;32m      5\u001b[0m     \u001b[1;32mif\u001b[0m \u001b[0mepoch\u001b[0m \u001b[1;33m%\u001b[0m \u001b[0mPRINT_PER\u001b[0m \u001b[1;33m==\u001b[0m \u001b[1;36m0\u001b[0m\u001b[1;33m:\u001b[0m\u001b[1;33m\u001b[0m\u001b[0m\n",
      "\u001b[1;32m<ipython-input-15-92968e229805>\u001b[0m in \u001b[0;36mtrain\u001b[1;34m(inputs, tags)\u001b[0m\n\u001b[0;32m      4\u001b[0m     \u001b[0mloss\u001b[0m \u001b[1;33m=\u001b[0m \u001b[1;36m0\u001b[0m\u001b[1;33m\u001b[0m\u001b[0m\n\u001b[0;32m      5\u001b[0m     \u001b[1;32mfor\u001b[0m \u001b[0mcount\u001b[0m \u001b[1;32min\u001b[0m \u001b[0mrange\u001b[0m\u001b[1;33m(\u001b[0m\u001b[0mMINIBATCH\u001b[0m\u001b[1;33m)\u001b[0m\u001b[1;33m:\u001b[0m\u001b[1;33m\u001b[0m\u001b[0m\n\u001b[1;32m----> 6\u001b[1;33m         \u001b[0moutput\u001b[0m\u001b[1;33m,\u001b[0m \u001b[0mhidden\u001b[0m \u001b[1;33m=\u001b[0m \u001b[0mmodel\u001b[0m\u001b[1;33m(\u001b[0m\u001b[0minputs\u001b[0m\u001b[1;33m[\u001b[0m\u001b[0mcount\u001b[0m\u001b[1;33m]\u001b[0m\u001b[1;33m,\u001b[0m \u001b[0mhidden\u001b[0m\u001b[1;33m)\u001b[0m\u001b[1;33m\u001b[0m\u001b[0m\n\u001b[0m\u001b[0;32m      7\u001b[0m         \u001b[0mloss\u001b[0m \u001b[1;33m+=\u001b[0m \u001b[0mcriterion\u001b[0m\u001b[1;33m(\u001b[0m\u001b[0moutput\u001b[0m\u001b[1;33m,\u001b[0m \u001b[0mtags\u001b[0m\u001b[1;33m[\u001b[0m\u001b[0mcount\u001b[0m\u001b[1;33m]\u001b[0m\u001b[1;33m)\u001b[0m\u001b[1;33m\u001b[0m\u001b[0m\n\u001b[0;32m      8\u001b[0m     \u001b[0mloss\u001b[0m\u001b[1;33m.\u001b[0m\u001b[0mbackward\u001b[0m\u001b[1;33m(\u001b[0m\u001b[1;33m)\u001b[0m\u001b[1;33m\u001b[0m\u001b[0m\n",
      "\u001b[1;32mE:\\Softwares\\Anaconda3\\envs\\py3\\lib\\site-packages\\torch\\nn\\modules\\module.py\u001b[0m in \u001b[0;36m__call__\u001b[1;34m(self, *input, **kwargs)\u001b[0m\n\u001b[0;32m    355\u001b[0m             \u001b[0mresult\u001b[0m \u001b[1;33m=\u001b[0m \u001b[0mself\u001b[0m\u001b[1;33m.\u001b[0m\u001b[0m_slow_forward\u001b[0m\u001b[1;33m(\u001b[0m\u001b[1;33m*\u001b[0m\u001b[0minput\u001b[0m\u001b[1;33m,\u001b[0m \u001b[1;33m**\u001b[0m\u001b[0mkwargs\u001b[0m\u001b[1;33m)\u001b[0m\u001b[1;33m\u001b[0m\u001b[0m\n\u001b[0;32m    356\u001b[0m         \u001b[1;32melse\u001b[0m\u001b[1;33m:\u001b[0m\u001b[1;33m\u001b[0m\u001b[0m\n\u001b[1;32m--> 357\u001b[1;33m             \u001b[0mresult\u001b[0m \u001b[1;33m=\u001b[0m \u001b[0mself\u001b[0m\u001b[1;33m.\u001b[0m\u001b[0mforward\u001b[0m\u001b[1;33m(\u001b[0m\u001b[1;33m*\u001b[0m\u001b[0minput\u001b[0m\u001b[1;33m,\u001b[0m \u001b[1;33m**\u001b[0m\u001b[0mkwargs\u001b[0m\u001b[1;33m)\u001b[0m\u001b[1;33m\u001b[0m\u001b[0m\n\u001b[0m\u001b[0;32m    358\u001b[0m         \u001b[1;32mfor\u001b[0m \u001b[0mhook\u001b[0m \u001b[1;32min\u001b[0m \u001b[0mself\u001b[0m\u001b[1;33m.\u001b[0m\u001b[0m_forward_hooks\u001b[0m\u001b[1;33m.\u001b[0m\u001b[0mvalues\u001b[0m\u001b[1;33m(\u001b[0m\u001b[1;33m)\u001b[0m\u001b[1;33m:\u001b[0m\u001b[1;33m\u001b[0m\u001b[0m\n\u001b[0;32m    359\u001b[0m             \u001b[0mhook_result\u001b[0m \u001b[1;33m=\u001b[0m \u001b[0mhook\u001b[0m\u001b[1;33m(\u001b[0m\u001b[0mself\u001b[0m\u001b[1;33m,\u001b[0m \u001b[0minput\u001b[0m\u001b[1;33m,\u001b[0m \u001b[0mresult\u001b[0m\u001b[1;33m)\u001b[0m\u001b[1;33m\u001b[0m\u001b[0m\n",
      "\u001b[1;32m<ipython-input-10-6d9f7e7fc9d2>\u001b[0m in \u001b[0;36mforward\u001b[1;34m(self, inputs, hidden)\u001b[0m\n\u001b[0;32m     13\u001b[0m     \u001b[1;32mdef\u001b[0m \u001b[0mforward\u001b[0m\u001b[1;33m(\u001b[0m\u001b[0mself\u001b[0m\u001b[1;33m,\u001b[0m \u001b[0minputs\u001b[0m\u001b[1;33m,\u001b[0m \u001b[0mhidden\u001b[0m\u001b[1;33m)\u001b[0m\u001b[1;33m:\u001b[0m\u001b[1;33m\u001b[0m\u001b[0m\n\u001b[0;32m     14\u001b[0m         \u001b[0minputs\u001b[0m \u001b[1;33m=\u001b[0m \u001b[0mself\u001b[0m\u001b[1;33m.\u001b[0m\u001b[0mencoder\u001b[0m\u001b[1;33m(\u001b[0m\u001b[0minputs\u001b[0m\u001b[1;33m.\u001b[0m\u001b[0mview\u001b[0m\u001b[1;33m(\u001b[0m\u001b[1;36m1\u001b[0m\u001b[1;33m,\u001b[0m\u001b[1;33m-\u001b[0m\u001b[1;36m1\u001b[0m\u001b[1;33m)\u001b[0m\u001b[1;33m)\u001b[0m\u001b[1;33m\u001b[0m\u001b[0m\n\u001b[1;32m---> 15\u001b[1;33m         \u001b[0moutput\u001b[0m\u001b[1;33m,\u001b[0m \u001b[0mhidden\u001b[0m \u001b[1;33m=\u001b[0m \u001b[0mself\u001b[0m\u001b[1;33m.\u001b[0m\u001b[0mnet\u001b[0m\u001b[1;33m(\u001b[0m\u001b[0minputs\u001b[0m\u001b[1;33m.\u001b[0m\u001b[0mview\u001b[0m\u001b[1;33m(\u001b[0m\u001b[1;36m1\u001b[0m\u001b[1;33m,\u001b[0m\u001b[1;36m1\u001b[0m\u001b[1;33m,\u001b[0m\u001b[1;33m-\u001b[0m\u001b[1;36m1\u001b[0m\u001b[1;33m)\u001b[0m\u001b[1;33m,\u001b[0m\u001b[0mhidden\u001b[0m\u001b[1;33m)\u001b[0m\u001b[1;33m\u001b[0m\u001b[0m\n\u001b[0m\u001b[0;32m     16\u001b[0m         \u001b[0moutput\u001b[0m \u001b[1;33m=\u001b[0m \u001b[0mself\u001b[0m\u001b[1;33m.\u001b[0m\u001b[0mdecoder\u001b[0m\u001b[1;33m(\u001b[0m\u001b[0moutput\u001b[0m\u001b[1;33m.\u001b[0m\u001b[0mview\u001b[0m\u001b[1;33m(\u001b[0m\u001b[1;36m1\u001b[0m\u001b[1;33m,\u001b[0m\u001b[1;33m-\u001b[0m\u001b[1;36m1\u001b[0m\u001b[1;33m)\u001b[0m\u001b[1;33m)\u001b[0m\u001b[1;33m\u001b[0m\u001b[0m\n\u001b[0;32m     17\u001b[0m         \u001b[1;32mreturn\u001b[0m \u001b[0moutput\u001b[0m\u001b[1;33m,\u001b[0m \u001b[0mhidden\u001b[0m\u001b[1;33m\u001b[0m\u001b[0m\n",
      "\u001b[1;32mE:\\Softwares\\Anaconda3\\envs\\py3\\lib\\site-packages\\torch\\nn\\modules\\module.py\u001b[0m in \u001b[0;36m__call__\u001b[1;34m(self, *input, **kwargs)\u001b[0m\n\u001b[0;32m    355\u001b[0m             \u001b[0mresult\u001b[0m \u001b[1;33m=\u001b[0m \u001b[0mself\u001b[0m\u001b[1;33m.\u001b[0m\u001b[0m_slow_forward\u001b[0m\u001b[1;33m(\u001b[0m\u001b[1;33m*\u001b[0m\u001b[0minput\u001b[0m\u001b[1;33m,\u001b[0m \u001b[1;33m**\u001b[0m\u001b[0mkwargs\u001b[0m\u001b[1;33m)\u001b[0m\u001b[1;33m\u001b[0m\u001b[0m\n\u001b[0;32m    356\u001b[0m         \u001b[1;32melse\u001b[0m\u001b[1;33m:\u001b[0m\u001b[1;33m\u001b[0m\u001b[0m\n\u001b[1;32m--> 357\u001b[1;33m             \u001b[0mresult\u001b[0m \u001b[1;33m=\u001b[0m \u001b[0mself\u001b[0m\u001b[1;33m.\u001b[0m\u001b[0mforward\u001b[0m\u001b[1;33m(\u001b[0m\u001b[1;33m*\u001b[0m\u001b[0minput\u001b[0m\u001b[1;33m,\u001b[0m \u001b[1;33m**\u001b[0m\u001b[0mkwargs\u001b[0m\u001b[1;33m)\u001b[0m\u001b[1;33m\u001b[0m\u001b[0m\n\u001b[0m\u001b[0;32m    358\u001b[0m         \u001b[1;32mfor\u001b[0m \u001b[0mhook\u001b[0m \u001b[1;32min\u001b[0m \u001b[0mself\u001b[0m\u001b[1;33m.\u001b[0m\u001b[0m_forward_hooks\u001b[0m\u001b[1;33m.\u001b[0m\u001b[0mvalues\u001b[0m\u001b[1;33m(\u001b[0m\u001b[1;33m)\u001b[0m\u001b[1;33m:\u001b[0m\u001b[1;33m\u001b[0m\u001b[0m\n\u001b[0;32m    359\u001b[0m             \u001b[0mhook_result\u001b[0m \u001b[1;33m=\u001b[0m \u001b[0mhook\u001b[0m\u001b[1;33m(\u001b[0m\u001b[0mself\u001b[0m\u001b[1;33m,\u001b[0m \u001b[0minput\u001b[0m\u001b[1;33m,\u001b[0m \u001b[0mresult\u001b[0m\u001b[1;33m)\u001b[0m\u001b[1;33m\u001b[0m\u001b[0m\n",
      "\u001b[1;32mE:\\Softwares\\Anaconda3\\envs\\py3\\lib\\site-packages\\torch\\nn\\modules\\rnn.py\u001b[0m in \u001b[0;36mforward\u001b[1;34m(self, input, hx)\u001b[0m\n\u001b[0;32m    202\u001b[0m             \u001b[0mflat_weight\u001b[0m\u001b[1;33m=\u001b[0m\u001b[0mflat_weight\u001b[0m\u001b[1;33m\u001b[0m\u001b[0m\n\u001b[0;32m    203\u001b[0m         )\n\u001b[1;32m--> 204\u001b[1;33m         \u001b[0moutput\u001b[0m\u001b[1;33m,\u001b[0m \u001b[0mhidden\u001b[0m \u001b[1;33m=\u001b[0m \u001b[0mfunc\u001b[0m\u001b[1;33m(\u001b[0m\u001b[0minput\u001b[0m\u001b[1;33m,\u001b[0m \u001b[0mself\u001b[0m\u001b[1;33m.\u001b[0m\u001b[0mall_weights\u001b[0m\u001b[1;33m,\u001b[0m \u001b[0mhx\u001b[0m\u001b[1;33m)\u001b[0m\u001b[1;33m\u001b[0m\u001b[0m\n\u001b[0m\u001b[0;32m    205\u001b[0m         \u001b[1;32mif\u001b[0m \u001b[0mis_packed\u001b[0m\u001b[1;33m:\u001b[0m\u001b[1;33m\u001b[0m\u001b[0m\n\u001b[0;32m    206\u001b[0m             \u001b[0moutput\u001b[0m \u001b[1;33m=\u001b[0m \u001b[0mPackedSequence\u001b[0m\u001b[1;33m(\u001b[0m\u001b[0moutput\u001b[0m\u001b[1;33m,\u001b[0m \u001b[0mbatch_sizes\u001b[0m\u001b[1;33m)\u001b[0m\u001b[1;33m\u001b[0m\u001b[0m\n",
      "\u001b[1;32mE:\\Softwares\\Anaconda3\\envs\\py3\\lib\\site-packages\\torch\\nn\\_functions\\rnn.py\u001b[0m in \u001b[0;36mforward\u001b[1;34m(input, *fargs, **fkwargs)\u001b[0m\n\u001b[0;32m    383\u001b[0m             \u001b[1;32mreturn\u001b[0m \u001b[0mhack_onnx_rnn\u001b[0m\u001b[1;33m(\u001b[0m\u001b[1;33m(\u001b[0m\u001b[0minput\u001b[0m\u001b[1;33m,\u001b[0m\u001b[1;33m)\u001b[0m \u001b[1;33m+\u001b[0m \u001b[0mfargs\u001b[0m\u001b[1;33m,\u001b[0m \u001b[0moutput\u001b[0m\u001b[1;33m,\u001b[0m \u001b[0margs\u001b[0m\u001b[1;33m,\u001b[0m \u001b[0mkwargs\u001b[0m\u001b[1;33m)\u001b[0m\u001b[1;33m\u001b[0m\u001b[0m\n\u001b[0;32m    384\u001b[0m         \u001b[1;32melse\u001b[0m\u001b[1;33m:\u001b[0m\u001b[1;33m\u001b[0m\u001b[0m\n\u001b[1;32m--> 385\u001b[1;33m             \u001b[1;32mreturn\u001b[0m \u001b[0mfunc\u001b[0m\u001b[1;33m(\u001b[0m\u001b[0minput\u001b[0m\u001b[1;33m,\u001b[0m \u001b[1;33m*\u001b[0m\u001b[0mfargs\u001b[0m\u001b[1;33m,\u001b[0m \u001b[1;33m**\u001b[0m\u001b[0mfkwargs\u001b[0m\u001b[1;33m)\u001b[0m\u001b[1;33m\u001b[0m\u001b[0m\n\u001b[0m\u001b[0;32m    386\u001b[0m \u001b[1;33m\u001b[0m\u001b[0m\n\u001b[0;32m    387\u001b[0m     \u001b[1;32mreturn\u001b[0m \u001b[0mforward\u001b[0m\u001b[1;33m\u001b[0m\u001b[0m\n",
      "\u001b[1;32mE:\\Softwares\\Anaconda3\\envs\\py3\\lib\\site-packages\\torch\\nn\\_functions\\rnn.py\u001b[0m in \u001b[0;36mforward\u001b[1;34m(input, weight, hidden)\u001b[0m\n\u001b[0;32m    243\u001b[0m             \u001b[0minput\u001b[0m \u001b[1;33m=\u001b[0m \u001b[0minput\u001b[0m\u001b[1;33m.\u001b[0m\u001b[0mtranspose\u001b[0m\u001b[1;33m(\u001b[0m\u001b[1;36m0\u001b[0m\u001b[1;33m,\u001b[0m \u001b[1;36m1\u001b[0m\u001b[1;33m)\u001b[0m\u001b[1;33m\u001b[0m\u001b[0m\n\u001b[0;32m    244\u001b[0m \u001b[1;33m\u001b[0m\u001b[0m\n\u001b[1;32m--> 245\u001b[1;33m         \u001b[0mnexth\u001b[0m\u001b[1;33m,\u001b[0m \u001b[0moutput\u001b[0m \u001b[1;33m=\u001b[0m \u001b[0mfunc\u001b[0m\u001b[1;33m(\u001b[0m\u001b[0minput\u001b[0m\u001b[1;33m,\u001b[0m \u001b[0mhidden\u001b[0m\u001b[1;33m,\u001b[0m \u001b[0mweight\u001b[0m\u001b[1;33m)\u001b[0m\u001b[1;33m\u001b[0m\u001b[0m\n\u001b[0m\u001b[0;32m    246\u001b[0m \u001b[1;33m\u001b[0m\u001b[0m\n\u001b[0;32m    247\u001b[0m         \u001b[1;32mif\u001b[0m \u001b[0mbatch_first\u001b[0m \u001b[1;32mand\u001b[0m \u001b[0mbatch_sizes\u001b[0m \u001b[1;32mis\u001b[0m \u001b[1;32mNone\u001b[0m\u001b[1;33m:\u001b[0m\u001b[1;33m\u001b[0m\u001b[0m\n",
      "\u001b[1;32mE:\\Softwares\\Anaconda3\\envs\\py3\\lib\\site-packages\\torch\\nn\\_functions\\rnn.py\u001b[0m in \u001b[0;36mforward\u001b[1;34m(input, hidden, weight)\u001b[0m\n\u001b[0;32m     83\u001b[0m                 \u001b[0ml\u001b[0m \u001b[1;33m=\u001b[0m \u001b[0mi\u001b[0m \u001b[1;33m*\u001b[0m \u001b[0mnum_directions\u001b[0m \u001b[1;33m+\u001b[0m \u001b[0mj\u001b[0m\u001b[1;33m\u001b[0m\u001b[0m\n\u001b[0;32m     84\u001b[0m \u001b[1;33m\u001b[0m\u001b[0m\n\u001b[1;32m---> 85\u001b[1;33m                 \u001b[0mhy\u001b[0m\u001b[1;33m,\u001b[0m \u001b[0moutput\u001b[0m \u001b[1;33m=\u001b[0m \u001b[0minner\u001b[0m\u001b[1;33m(\u001b[0m\u001b[0minput\u001b[0m\u001b[1;33m,\u001b[0m \u001b[0mhidden\u001b[0m\u001b[1;33m[\u001b[0m\u001b[0ml\u001b[0m\u001b[1;33m]\u001b[0m\u001b[1;33m,\u001b[0m \u001b[0mweight\u001b[0m\u001b[1;33m[\u001b[0m\u001b[0ml\u001b[0m\u001b[1;33m]\u001b[0m\u001b[1;33m)\u001b[0m\u001b[1;33m\u001b[0m\u001b[0m\n\u001b[0m\u001b[0;32m     86\u001b[0m                 \u001b[0mnext_hidden\u001b[0m\u001b[1;33m.\u001b[0m\u001b[0mappend\u001b[0m\u001b[1;33m(\u001b[0m\u001b[0mhy\u001b[0m\u001b[1;33m)\u001b[0m\u001b[1;33m\u001b[0m\u001b[0m\n\u001b[0;32m     87\u001b[0m                 \u001b[0mall_output\u001b[0m\u001b[1;33m.\u001b[0m\u001b[0mappend\u001b[0m\u001b[1;33m(\u001b[0m\u001b[0moutput\u001b[0m\u001b[1;33m)\u001b[0m\u001b[1;33m\u001b[0m\u001b[0m\n",
      "\u001b[1;32mE:\\Softwares\\Anaconda3\\envs\\py3\\lib\\site-packages\\torch\\nn\\_functions\\rnn.py\u001b[0m in \u001b[0;36mforward\u001b[1;34m(input, hidden, weight)\u001b[0m\n\u001b[0;32m    112\u001b[0m         \u001b[0msteps\u001b[0m \u001b[1;33m=\u001b[0m \u001b[0mrange\u001b[0m\u001b[1;33m(\u001b[0m\u001b[0minput\u001b[0m\u001b[1;33m.\u001b[0m\u001b[0msize\u001b[0m\u001b[1;33m(\u001b[0m\u001b[1;36m0\u001b[0m\u001b[1;33m)\u001b[0m \u001b[1;33m-\u001b[0m \u001b[1;36m1\u001b[0m\u001b[1;33m,\u001b[0m \u001b[1;33m-\u001b[0m\u001b[1;36m1\u001b[0m\u001b[1;33m,\u001b[0m \u001b[1;33m-\u001b[0m\u001b[1;36m1\u001b[0m\u001b[1;33m)\u001b[0m \u001b[1;32mif\u001b[0m \u001b[0mreverse\u001b[0m \u001b[1;32melse\u001b[0m \u001b[0mrange\u001b[0m\u001b[1;33m(\u001b[0m\u001b[0minput\u001b[0m\u001b[1;33m.\u001b[0m\u001b[0msize\u001b[0m\u001b[1;33m(\u001b[0m\u001b[1;36m0\u001b[0m\u001b[1;33m)\u001b[0m\u001b[1;33m)\u001b[0m\u001b[1;33m\u001b[0m\u001b[0m\n\u001b[0;32m    113\u001b[0m         \u001b[1;32mfor\u001b[0m \u001b[0mi\u001b[0m \u001b[1;32min\u001b[0m \u001b[0msteps\u001b[0m\u001b[1;33m:\u001b[0m\u001b[1;33m\u001b[0m\u001b[0m\n\u001b[1;32m--> 114\u001b[1;33m             \u001b[0mhidden\u001b[0m \u001b[1;33m=\u001b[0m \u001b[0minner\u001b[0m\u001b[1;33m(\u001b[0m\u001b[0minput\u001b[0m\u001b[1;33m[\u001b[0m\u001b[0mi\u001b[0m\u001b[1;33m]\u001b[0m\u001b[1;33m,\u001b[0m \u001b[0mhidden\u001b[0m\u001b[1;33m,\u001b[0m \u001b[1;33m*\u001b[0m\u001b[0mweight\u001b[0m\u001b[1;33m)\u001b[0m\u001b[1;33m\u001b[0m\u001b[0m\n\u001b[0m\u001b[0;32m    115\u001b[0m             \u001b[1;31m# hack to handle LSTM\u001b[0m\u001b[1;33m\u001b[0m\u001b[1;33m\u001b[0m\u001b[0m\n\u001b[0;32m    116\u001b[0m             \u001b[0moutput\u001b[0m\u001b[1;33m.\u001b[0m\u001b[0mappend\u001b[0m\u001b[1;33m(\u001b[0m\u001b[0mhidden\u001b[0m\u001b[1;33m[\u001b[0m\u001b[1;36m0\u001b[0m\u001b[1;33m]\u001b[0m \u001b[1;32mif\u001b[0m \u001b[0misinstance\u001b[0m\u001b[1;33m(\u001b[0m\u001b[0mhidden\u001b[0m\u001b[1;33m,\u001b[0m \u001b[0mtuple\u001b[0m\u001b[1;33m)\u001b[0m \u001b[1;32melse\u001b[0m \u001b[0mhidden\u001b[0m\u001b[1;33m)\u001b[0m\u001b[1;33m\u001b[0m\u001b[0m\n",
      "\u001b[1;32mE:\\Softwares\\Anaconda3\\envs\\py3\\lib\\site-packages\\torch\\nn\\_functions\\rnn.py\u001b[0m in \u001b[0;36mRNNTanhCell\u001b[1;34m(input, hidden, w_ih, w_hh, b_ih, b_hh)\u001b[0m\n\u001b[0;32m     18\u001b[0m \u001b[1;33m\u001b[0m\u001b[0m\n\u001b[0;32m     19\u001b[0m \u001b[1;32mdef\u001b[0m \u001b[0mRNNTanhCell\u001b[0m\u001b[1;33m(\u001b[0m\u001b[0minput\u001b[0m\u001b[1;33m,\u001b[0m \u001b[0mhidden\u001b[0m\u001b[1;33m,\u001b[0m \u001b[0mw_ih\u001b[0m\u001b[1;33m,\u001b[0m \u001b[0mw_hh\u001b[0m\u001b[1;33m,\u001b[0m \u001b[0mb_ih\u001b[0m\u001b[1;33m=\u001b[0m\u001b[1;32mNone\u001b[0m\u001b[1;33m,\u001b[0m \u001b[0mb_hh\u001b[0m\u001b[1;33m=\u001b[0m\u001b[1;32mNone\u001b[0m\u001b[1;33m)\u001b[0m\u001b[1;33m:\u001b[0m\u001b[1;33m\u001b[0m\u001b[0m\n\u001b[1;32m---> 20\u001b[1;33m     \u001b[0mhy\u001b[0m \u001b[1;33m=\u001b[0m \u001b[0mF\u001b[0m\u001b[1;33m.\u001b[0m\u001b[0mtanh\u001b[0m\u001b[1;33m(\u001b[0m\u001b[0mF\u001b[0m\u001b[1;33m.\u001b[0m\u001b[0mlinear\u001b[0m\u001b[1;33m(\u001b[0m\u001b[0minput\u001b[0m\u001b[1;33m,\u001b[0m \u001b[0mw_ih\u001b[0m\u001b[1;33m,\u001b[0m \u001b[0mb_ih\u001b[0m\u001b[1;33m)\u001b[0m \u001b[1;33m+\u001b[0m \u001b[0mF\u001b[0m\u001b[1;33m.\u001b[0m\u001b[0mlinear\u001b[0m\u001b[1;33m(\u001b[0m\u001b[0mhidden\u001b[0m\u001b[1;33m,\u001b[0m \u001b[0mw_hh\u001b[0m\u001b[1;33m,\u001b[0m \u001b[0mb_hh\u001b[0m\u001b[1;33m)\u001b[0m\u001b[1;33m)\u001b[0m\u001b[1;33m\u001b[0m\u001b[0m\n\u001b[0m\u001b[0;32m     21\u001b[0m     \u001b[1;32mreturn\u001b[0m \u001b[0mhy\u001b[0m\u001b[1;33m\u001b[0m\u001b[0m\n\u001b[0;32m     22\u001b[0m \u001b[1;33m\u001b[0m\u001b[0m\n",
      "\u001b[1;32mE:\\Softwares\\Anaconda3\\envs\\py3\\lib\\site-packages\\torch\\nn\\functional.py\u001b[0m in \u001b[0;36mlinear\u001b[1;34m(input, weight, bias)\u001b[0m\n\u001b[0;32m    833\u001b[0m     \u001b[1;32mif\u001b[0m \u001b[0minput\u001b[0m\u001b[1;33m.\u001b[0m\u001b[0mdim\u001b[0m\u001b[1;33m(\u001b[0m\u001b[1;33m)\u001b[0m \u001b[1;33m==\u001b[0m \u001b[1;36m2\u001b[0m \u001b[1;32mand\u001b[0m \u001b[0mbias\u001b[0m \u001b[1;32mis\u001b[0m \u001b[1;32mnot\u001b[0m \u001b[1;32mNone\u001b[0m\u001b[1;33m:\u001b[0m\u001b[1;33m\u001b[0m\u001b[0m\n\u001b[0;32m    834\u001b[0m         \u001b[1;31m# fused op is marginally faster\u001b[0m\u001b[1;33m\u001b[0m\u001b[1;33m\u001b[0m\u001b[0m\n\u001b[1;32m--> 835\u001b[1;33m         \u001b[1;32mreturn\u001b[0m \u001b[0mtorch\u001b[0m\u001b[1;33m.\u001b[0m\u001b[0maddmm\u001b[0m\u001b[1;33m(\u001b[0m\u001b[0mbias\u001b[0m\u001b[1;33m,\u001b[0m \u001b[0minput\u001b[0m\u001b[1;33m,\u001b[0m \u001b[0mweight\u001b[0m\u001b[1;33m.\u001b[0m\u001b[0mt\u001b[0m\u001b[1;33m(\u001b[0m\u001b[1;33m)\u001b[0m\u001b[1;33m)\u001b[0m\u001b[1;33m\u001b[0m\u001b[0m\n\u001b[0m\u001b[0;32m    836\u001b[0m \u001b[1;33m\u001b[0m\u001b[0m\n\u001b[0;32m    837\u001b[0m     \u001b[0moutput\u001b[0m \u001b[1;33m=\u001b[0m \u001b[0minput\u001b[0m\u001b[1;33m.\u001b[0m\u001b[0mmatmul\u001b[0m\u001b[1;33m(\u001b[0m\u001b[0mweight\u001b[0m\u001b[1;33m.\u001b[0m\u001b[0mt\u001b[0m\u001b[1;33m(\u001b[0m\u001b[1;33m)\u001b[0m\u001b[1;33m)\u001b[0m\u001b[1;33m\u001b[0m\u001b[0m\n",
      "\u001b[1;31mKeyboardInterrupt\u001b[0m: "
     ]
    }
   ],
   "source": [
    "averaged_loss = 0\n",
    "for epoch in range(1,MAX_ITERATION):\n",
    "    loss = train(*random_training_batch())\n",
    "    averaged_loss += loss\n",
    "    if epoch % PRINT_PER == 0:\n",
    "        valid_loss = train(valid_inputs,valid_tags)\n",
    "        print(\"epoch: \" + str(epoch) + \"\\ttrain_loss: \" + \n",
    "              str(averaged_loss/PRINT_PER) + \"\\tvalid_loss: \" +\n",
    "             str(valid_loss))\n",
    "        saved_train_loss.append(averaged_loss/PRINT_PER)\n",
    "        saved_valid_loss.append(valid_loss)\n",
    "        averaged_loss = 0\n",
    "    "
   ]
  },
  {
   "cell_type": "markdown",
   "metadata": {},
   "source": [
    "# Plot"
   ]
  },
  {
   "cell_type": "code",
   "execution_count": 19,
   "metadata": {},
   "outputs": [
    {
     "data": {
      "image/png": "[encoded data removed]",
      "text/plain": [
       "<Figure size 432x288 with 1 Axes>"
      ]
     },
     "metadata": {},
     "output_type": "display_data"
    }
   ],
   "source": [
    "plt.figure()\n",
    "plt.title('CharRNN Loss vs Epoch\\n'+'LAYERS = '+str(NUM_LAYER)+'   HIDDEN SIZE = '+str(HIDDEN_DIM)+'\\nOptimizer = Adam'+'   lr = '+str(LEARNING_RATE))\n",
    "plt.ylabel('Loss')\n",
    "plt.xlabel('epoch')\n",
    "plt.plot(saved_train_loss,'red')\n",
    "plt.plot(saved_valid_loss,'blue')\n",
    "plt.legend(['train loss','valid loss'])\n",
    "plt.savefig('HW4_CharRNN_loss_'+str(NUM_LAYER)+'_hidden_'+str(HIDDEN_DIM)+'_Adam_lr_'+str(LEARNING_RATE)[2:])\n",
    "plt.show()"
   ]
  },
  {
   "cell_type": "markdown",
   "metadata": {},
   "source": [
    "# Genreate New Content"
   ]
  },
  {
   "cell_type": "code",
   "execution_count": 20,
   "metadata": {},
   "outputs": [],
   "source": [
    "def generator(prime, gen_length, temperature):\n",
    "    hidden = model.hidden_init()\n",
    "    prime_tensor = char2tensor(prime)\n",
    "    result_str = prime\n",
    "    \n",
    "    # Initialize the model by prime input\n",
    "    for num in range(len(prime_tensor)-1):\n",
    "        _, hidden = model(prime_tensor[num], hidden)\n",
    "    inputs = prime_tensor[-1]\n",
    "    \n",
    "    # Start generating\n",
    "    for count in range(gen_length):\n",
    "        output, hidden = model(inputs, hidden)\n",
    "        \n",
    "        # Get Predict Result based on the probability divided by temperature\n",
    "        p_dist = output.data.view(-1).div(temperature).exp()\n",
    "        result_idx = torch.multinomial(p_dist, 1)[0]\n",
    "\n",
    "        # Collect the predicted result\n",
    "        next_char = all_chars[result_idx]\n",
    "        result_str += next_char\n",
    "        inputs = char2tensor(next_char)\n",
    "    \n",
    "    return result_str"
   ]
  },
  {
   "cell_type": "code",
   "execution_count": 31,
   "metadata": {},
   "outputs": [
    {
     "name": "stdout",
     "output_type": "stream",
     "text": [
      "CORIOLANUS:\n",
      "Now had the gons as will, but he broud shall and, not names his callaw of repolk, and speal.\n",
      "\n",
      "ROMEO:\n",
      "Hall than she the regue comes hand the geast be the resentleman:\n",
      "Ef thou planged of retiences no coming strounce,\n",
      "He the westand cangues him, for strusharl did centers,\n",
      "There, not man arull the dights earth the fair of saw I the king,\n",
      "That there that see I disson Bursand the sweet see ceoreman shore your purpteeth should surthing by Romenter hold so as malan is shall sore his which have of ming not dis, but the give here,\n",
      "That shward the death destreen croving and this cannot to that where, latuers are sund and that may say.\n",
      "\n",
      "FRIARET:\n",
      "Havour man the percountle will mad searst stords, and worp,\n",
      "Or not who provonds charkn that sees no spoll all rasher'd, parth 'trursested may from your cray shall breather.\n",
      "\n",
      "HORTENRY:\n",
      "Henrst my so will and for hath deather for spear him that the seem forthing in sweet the broke shall time that, God anger, grief,\n",
      "Thee strusters, she part these reis beile to his have you diends as that spear and such\n",
      "One ming though of my spring thy speal say, recears; and have you shall be of not the shall hear an then him,\n",
      "A ladge in rease sance the good mangrege time;\n",
      "And the give, but you?\n",
      "'Tis chears the conshing see, partuer the shall say, far him in thou the live's make could searth\n",
      "That and the these,\n",
      "That he are had on the broke fathers, and you sunkers;\n",
      "There your diss the seem is grownst may in that stander came thereat, see see their rigess the truch breath\n",
      "That I-misher the shall a be will marcond not the grough our shall, my have as of hatess rase!\n",
      "The which that a shall of his spree nature wrulled, lord manio, fellow, shall a not the devenged is a life, he will live I see him and net ratch first the dishurder that the shall, see your boy, fare,\n",
      "Thou maden compnity of hight shall griens as the proves in the the stank's shall had a soul shall knaturess, the hear I arson by rade the part ourse the shall be on that have shall such a doners rights, been him;\n",
      "And that in us may firde on exeecters, the live of the had I kind this crue say, and the now shall him wer garether will the lastons, what the destinor the shall name were bring naw and his the shall I crue, he fathers charrey in made to for the not the good forthing good brease sease, if as all,\n",
      "As speave\n",
      "That say!\n",
      "The see sweet, the viest not,\n",
      "The night\n",
      "Where;\n",
      "This we that wears in thank,\n",
      "But good wish, with you shall,\n",
      "Gall but shall you in make me but you thou stallaring as the sate as that mistateilut his tire senstion bring cousest pray, whate't eving a lives all man the dound not shors, him mistry's shall what sore\n",
      "That young with there a the bother, a shall all pray shall to manger'd is os mis with is flons, or the mights: not and your gentle his stay:\n",
      "O, shall the see sut on your gries heir comptio, give, I shord's these to than shore from the short fare, and shall thou trues you sunks marry for marriast no mister as I sent no deseech,\n",
      "And forth by cannot thou of Hisse you connor awase leshove the death how, what house speave shall reportsio good that I not these halt saw streacher upon thou dranger'd the thank set the sand mears the friend mosser,\n",
      "Then and say,\n",
      "The master of what Is the genterss,\n",
      "I repere's are be more,\n",
      "That of shall prish'd the great a farewely barry shall shall to so straight the son:\n",
      "That duke great 'Tis crue shall you villandess manger-nate of Rill stay, and what not as your with me the prese grows my lord bear to fights, or thee so to of the nangreaty: gather of the Lold and a king we plevest and hath\n",
      "he the heart she ray that him;\n",
      "And not temply, gives natiar yours his they not with\n",
      "What on thy grace, breathers\n",
      "So sorrow shall house mase Maration,\n",
      "That I pervings'd the highness the genter's sent, and deathers, have and swears\n",
      "That honat:\n",
      "That, these!\n",
      "By soul hear father the sunkly fare; and seather,\n",
      "And bear the charth the the say your better'd take sain to my so man the say, streak shall shall he shore stantle shall his shall good hours make the sirst shall you did no the brother you never,\n",
      "And the now,\n",
      "Thus the kndience, siart sir!\n",
      "\n",
      "SICHIO:\n",
      "That not the part at provostory hear\n",
      "The say where'st thou shall your graces his chointen his what the shall him the had evert the shall your drepains of thesalangs and hearderster the laster;\n",
      "And the sorreather,\n",
      "That all shall saves and his him you the tearss see nation\n",
      "And sunself slorrow shore what trued I and such sear he of did slance, have cousess slanged\n",
      "Wherell's good inly pristle what here on's sunst so to the shors a--\n",
      "Thee as should willow'ds of much unterst with the brown'd what and I footh the reping matio,'s not our stale tenk discuneefor ppire from I sain to hadst what the will, and could him the stand the trues take the sunpare there his shall sisse see time well, did man him your is devinting shall his speen'd shall when late corten no hath and this sunior a solless,\n",
      "The clasters frangeh, shall use the shall in the but surted the insengess in th\n"
     ]
    }
   ],
   "source": [
    "PRIME = 'CORIOLANUS:'\n",
    "PREDICT_LENGTH = 5000\n",
    "T = 0.7\n",
    "print(generator(PRIME,PREDICT_LENGTH,T))"
   ]
  },
  {
   "cell_type": "code",
   "execution_count": null,
   "metadata": {},
   "outputs": [],
   "source": []
  },
  {
   "cell_type": "code",
   "execution_count": null,
   "metadata": {},
   "outputs": [],
   "source": []
  }
 ],
 "metadata": {
  "kernelspec": {
   "display_name": "Python 3",
   "language": "python",
   "name": "python3"
  },
  "language_info": {
   "codemirror_mode": {
    "name": "ipython",
    "version": 3
   },
   "file_extension": ".py",
   "mimetype": "text/x-python",
   "name": "python",
   "nbconvert_exporter": "python",
   "pygments_lexer": "ipython3",
   "version": "3.6.4"
  }
 },
 "nbformat": 4,
 "nbformat_minor": 2
}
