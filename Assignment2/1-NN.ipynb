{
 "cells": [
  {
   "cell_type": "markdown",
   "metadata": {},
   "source": [
    "# Import"
   ]
  },
  {
   "cell_type": "code",
   "execution_count": 12,
   "metadata": {},
   "outputs": [],
   "source": [
    "import numpy as np\n",
    "import matplotlib.pyplot as plt\n",
    "from sklearn.neighbors import KNeighborsClassifier\n",
    "from sklearn.metrics import accuracy_score,confusion_matrix,classification_report\n",
    "from tensorflow.examples.tutorials.mnist import input_data"
   ]
  },
  {
   "cell_type": "markdown",
   "metadata": {},
   "source": [
    "# Read Data"
   ]
  },
  {
   "cell_type": "code",
   "execution_count": 18,
   "metadata": {
    "scrolled": true
   },
   "outputs": [
    {
     "name": "stdout",
     "output_type": "stream",
     "text": [
      "Extracting MNIST_data/train-images-idx3-ubyte.gz\n",
      "Extracting MNIST_data/train-labels-idx1-ubyte.gz\n",
      "Extracting MNIST_data/t10k-images-idx3-ubyte.gz\n",
      "Extracting MNIST_data/t10k-labels-idx1-ubyte.gz\n"
     ]
    }
   ],
   "source": [
    "mnist = input_data.read_data_sets(\"MNIST_data/\", one_hot=False)"
   ]
  },
  {
   "cell_type": "code",
   "execution_count": 38,
   "metadata": {},
   "outputs": [],
   "source": [
    "train_img = mnist.train.images\n",
    "train_label = mnist.train.labels\n",
    "test_img = mnist.test.images\n",
    "test_label = mnist.test.labels"
   ]
  },
  {
   "cell_type": "markdown",
   "metadata": {},
   "source": [
    "# 1-NN"
   ]
  },
  {
   "cell_type": "code",
   "execution_count": 30,
   "metadata": {},
   "outputs": [],
   "source": [
    "import itertools\n",
    "\n",
    "def plot_confusion_matrix(cm, classes,\n",
    "                          normalize=False,\n",
    "                          title='Confusion matrix',\n",
    "                          cmap=plt.cm.Blues):\n",
    "    \"\"\"\n",
    "    This function prints and plots the confusion matrix.\n",
    "    Normalization can be applied by setting `normalize=True`.\n",
    "    \"\"\"\n",
    "    if normalize:\n",
    "        cm = cm.astype('float') / cm.sum(axis=1)[:, np.newaxis]\n",
    "        print(\"Normalized confusion matrix\")\n",
    "    else:\n",
    "        print('Confusion matrix, without normalization')\n",
    "\n",
    "    print(cm)\n",
    "\n",
    "    plt.imshow(cm, interpolation='nearest', cmap=cmap)\n",
    "    plt.title(title)\n",
    "    plt.colorbar()\n",
    "    tick_marks = np.arange(len(classes))\n",
    "    plt.xticks(tick_marks, classes, rotation=45)\n",
    "    plt.yticks(tick_marks, classes)\n",
    "\n",
    "    fmt = '.2f' if normalize else 'd'\n",
    "    thresh = cm.max() / 2.\n",
    "    for i, j in itertools.product(range(cm.shape[0]), range(cm.shape[1])):\n",
    "        plt.text(j, i, format(cm[i, j], fmt),\n",
    "                 horizontalalignment=\"center\",\n",
    "                 color=\"white\" if cm[i, j] > thresh else \"black\")\n",
    "\n",
    "    plt.tight_layout()\n",
    "    plt.ylabel('True label')\n",
    "    plt.xlabel('Predicted label')"
   ]
  },
  {
   "cell_type": "code",
   "execution_count": 39,
   "metadata": {},
   "outputs": [],
   "source": [
    "# len(train_img) == 55000\n",
    "valid_img = train_img[:5000]\n",
    "train_img = train_img[5000:]\n",
    "valid_label = train_label[:5000]\n",
    "train_label = train_label[5000:]"
   ]
  },
  {
   "cell_type": "code",
   "execution_count": 46,
   "metadata": {},
   "outputs": [
    {
     "name": "stdout",
     "output_type": "stream",
     "text": [
      "epoch ---> 0\n",
      "epoch ---> 1\n",
      "epoch ---> 2\n",
      "epoch ---> 3\n",
      "epoch ---> 4\n",
      "epoch ---> 5\n",
      "epoch ---> 6\n",
      "epoch ---> 7\n",
      "epoch ---> 8\n",
      "epoch ---> 9\n",
      "             precision    recall  f1-score   support\n",
      "\n",
      "          0       0.94      0.99      0.97        85\n",
      "          1       0.94      1.00      0.97       126\n",
      "          2       0.99      0.90      0.94       116\n",
      "          3       0.95      0.93      0.94       107\n",
      "          4       0.96      0.95      0.95       110\n",
      "          5       0.97      0.98      0.97        87\n",
      "          6       0.96      0.98      0.97        87\n",
      "          7       0.92      0.98      0.95        99\n",
      "          8       0.97      0.87      0.92        89\n",
      "          9       0.93      0.97      0.95        94\n",
      "\n",
      "avg / total       0.95      0.95      0.95      1000\n",
      "\n",
      "('validation accuracy is :', 0.96699999999999997)\n",
      "('test accuracy is :', 0.95299999999999996)\n"
     ]
    }
   ],
   "source": [
    "clf = KNeighborsClassifier(n_neighbors=3,algorithm='auto',weights='distance',p=1)\n",
    "clf.fit(train_img,train_label)\n",
    "valid_predictions=[]\n",
    "test_predictions=[]\n",
    "for i in range(1000):\n",
    "    if i % 100 == 0:\n",
    "        print('epoch ---> '+str(int(i/100)))\n",
    "    valid_output = clf.predict([valid_img[i]])\n",
    "    test_output = clf.predict([mnist.test.images[i]])\n",
    "    valid_predictions.append(valid_output)\n",
    "    test_predictions.append(test_output)\n",
    "\n",
    "confusion_m = confusion_matrix(mnist.test.labels[0:1000],test_predictions)\n",
    "\n",
    "print (classification_report(mnist.test.labels[0:1000],np.array(test_predictions)))\n",
    "\n",
    "print ('validation accuracy is :',accuracy_score(valid_label[0:1000],valid_predictions))\n",
    "print ('test accuracy is :',accuracy_score(mnist.test.labels[0:1000],test_predictions))\n",
    "\n",
    "class_names = [chr(i) for i in range(ord('0'),ord('9')+1)]"
   ]
  },
  {
   "cell_type": "code",
   "execution_count": 47,
   "metadata": {},
   "outputs": [
    {
     "name": "stdout",
     "output_type": "stream",
     "text": [
      "Confusion matrix, without normalization\n",
      "[[ 84   0   0   0   0   0   1   0   0   0]\n",
      " [  0 126   0   0   0   0   0   0   0   0]\n",
      " [  2   4 104   0   0   0   1   4   1   0]\n",
      " [  0   1   0 100   0   2   0   2   1   1]\n",
      " [  0   1   0   0 104   0   1   0   0   4]\n",
      " [  0   0   0   0   1  85   0   0   0   1]\n",
      " [  1   0   0   0   1   0  85   0   0   0]\n",
      " [  0   1   0   0   1   0   0  97   0   0]\n",
      " [  2   1   1   4   1   1   1   0  77   1]\n",
      " [  0   0   0   1   0   0   0   2   0  91]]\n"
     ]
    },
    {
     "data": {
      "image/png": "[encoded data removed]",
      "text/plain": [
       "<matplotlib.figure.Figure at 0x7eff870b7b90>"
      ]
     },
     "metadata": {},
     "output_type": "display_data"
    }
   ],
   "source": [
    "plot_confusion_matrix(confusion_m,classes=class_names,title='3nn confusion matrix\\nd=manhattan  valid_acc='+str(accuracy_score(valid_label[0:1000],valid_predictions))+'  test_acc='+str(accuracy_score(mnist.test.labels[0:1000],test_predictions)))"
   ]
  },
  {
   "cell_type": "code",
   "execution_count": null,
   "metadata": {},
   "outputs": [],
   "source": []
  }
 ],
 "metadata": {
  "kernelspec": {
   "display_name": "Python 2",
   "language": "python",
   "name": "python2"
  },
  "language_info": {
   "codemirror_mode": {
    "name": "ipython",
    "version": 2
   },
   "file_extension": ".py",
   "mimetype": "text/x-python",
   "name": "python",
   "nbconvert_exporter": "python",
   "pygments_lexer": "ipython2",
   "version": "2.7.12"
  }
 },
 "nbformat": 4,
 "nbformat_minor": 2
}
