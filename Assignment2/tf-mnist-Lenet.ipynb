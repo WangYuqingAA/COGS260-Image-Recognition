{
 "cells": [
  {
   "cell_type": "markdown",
   "metadata": {},
   "source": [
    "# Import"
   ]
  },
  {
   "cell_type": "code",
   "execution_count": 2,
   "metadata": {},
   "outputs": [],
   "source": [
    "import numpy as np\n",
    "import tensorflow as tf\n",
    "from tensorflow.examples.tutorials.mnist import input_data\n",
    "\n",
    "import matplotlib.pyplot as plt"
   ]
  },
  {
   "cell_type": "markdown",
   "metadata": {},
   "source": [
    "# Read Data"
   ]
  },
  {
   "cell_type": "code",
   "execution_count": 3,
   "metadata": {},
   "outputs": [
    {
     "name": "stdout",
     "output_type": "stream",
     "text": [
      "Extracting MNIST_data/train-images-idx3-ubyte.gz\n",
      "Extracting MNIST_data/train-labels-idx1-ubyte.gz\n",
      "Extracting MNIST_data/t10k-images-idx3-ubyte.gz\n",
      "Extracting MNIST_data/t10k-labels-idx1-ubyte.gz\n"
     ]
    }
   ],
   "source": [
    "mnist = input_data.read_data_sets(\"MNIST_data/\", one_hot=True)"
   ]
  },
  {
   "cell_type": "markdown",
   "metadata": {},
   "source": [
    "# Define Variable and Data Holder"
   ]
  },
  {
   "cell_type": "code",
   "execution_count": 4,
   "metadata": {},
   "outputs": [],
   "source": [
    "x = tf.placeholder(tf.float32, [None, 784])\n",
    "W = tf.Variable(tf.zeros([784,10]))\n",
    "b = tf.Variable(tf.zeros([10]))"
   ]
  },
  {
   "cell_type": "code",
   "execution_count": 5,
   "metadata": {},
   "outputs": [],
   "source": [
    "y = tf.nn.softmax(tf.matmul(x,W) + b)\n",
    "y_ = tf.placeholder(\"float\", [None,10])"
   ]
  },
  {
   "cell_type": "markdown",
   "metadata": {},
   "source": [
    "# Define Network"
   ]
  },
  {
   "cell_type": "code",
   "execution_count": 6,
   "metadata": {},
   "outputs": [],
   "source": [
    "def weight(shape):\n",
    "  w_init = tf.truncated_normal(shape, stddev=0.1)\n",
    "  return tf.Variable(w_init)\n",
    "\n",
    "def bias(shape):\n",
    "  b_init = tf.constant(0.1, shape=shape)\n",
    "  return tf.Variable(b_init)\n",
    "\n",
    "def conv2d(x, W):\n",
    "  return tf.nn.conv2d(x, W, strides=[1, 1, 1, 1], padding='SAME')\n",
    "\n",
    "def max_pool_2x2(x):\n",
    "  return tf.nn.max_pool(x, ksize=[1, 2, 2, 1],\n",
    "                        strides=[1, 2, 2, 1], padding='SAME')"
   ]
  },
  {
   "cell_type": "code",
   "execution_count": 7,
   "metadata": {},
   "outputs": [],
   "source": [
    "x_image = tf.reshape(x, [-1,28,28,1])\n",
    "\n",
    "W_conv1 = weight([5, 5, 1, 16])\n",
    "b_conv1 = bias([16])\n",
    "h_conv1 = tf.nn.relu(conv2d(x_image, W_conv1) + b_conv1)\n",
    "h_pool1 = max_pool_2x2(h_conv1)\n",
    "\n",
    "W_conv2 = weight([5, 5, 16, 32])\n",
    "b_conv2 = bias([32])\n",
    "h_conv2 = tf.nn.relu(conv2d(h_pool1, W_conv2) + b_conv2)\n",
    "h_pool2 = max_pool_2x2(h_conv2)\n",
    "\n",
    "W_fc1 = weight([7 * 7 * 32, 1024])\n",
    "b_fc1 = bias([1024])\n",
    "h_pool2_flat = tf.reshape(h_pool2, [-1, 7*7*32])\n",
    "h_fc1 = tf.nn.relu(tf.matmul(h_pool2_flat, W_fc1) + b_fc1)\n",
    "\n",
    "keep_prob = tf.placeholder(\"float\")\n",
    "h_fc1_drop = tf.nn.dropout(h_fc1, keep_prob)\n",
    "\n",
    "W_fc2 = weight([1024, 10])\n",
    "b_fc2 = bias([10])\n",
    "\n",
    "y_conv=tf.nn.softmax(tf.matmul(h_fc1_drop, W_fc2) + b_fc2)\n"
   ]
  },
  {
   "cell_type": "markdown",
   "metadata": {},
   "source": [
    "# Define Evaluation"
   ]
  },
  {
   "cell_type": "code",
   "execution_count": 155,
   "metadata": {},
   "outputs": [],
   "source": [
    "LEARNING_RATE = 1e-4\n",
    "OPTIMIZER = 'Adam'"
   ]
  },
  {
   "cell_type": "code",
   "execution_count": 156,
   "metadata": {},
   "outputs": [],
   "source": [
    "cross_entropy = -tf.reduce_sum(y_*tf.log(y_conv))\n",
    "correct_prediction = tf.equal(tf.argmax(y_conv,1), tf.argmax(y_,1))\n",
    "accuracy = tf.reduce_mean(tf.cast(correct_prediction, \"float\"))\n",
    "if OPTIMIZER == 'Adam':\n",
    "    train_step = tf.train.AdamOptimizer(LEARNING_RATE).minimize(cross_entropy)\n",
    "elif OPTIMIZER == 'RMSprop':\n",
    "    train_step = tf.train.RMSPropOptimizer(LEARNING_RATE).minimize(cross_entropy)\n",
    "elif OPTIMIZER == 'SGD':\n",
    "    train_step = tf.train.GradientDescentOptimizer(LEARNING_RATE).minimize(cross_entropy)"
   ]
  },
  {
   "cell_type": "markdown",
   "metadata": {},
   "source": [
    "# Start Training"
   ]
  },
  {
   "cell_type": "code",
   "execution_count": 157,
   "metadata": {},
   "outputs": [],
   "source": [
    "sess = tf.InteractiveSession()\n",
    "sess.run(tf.global_variables_initializer())"
   ]
  },
  {
   "cell_type": "code",
   "execution_count": 158,
   "metadata": {},
   "outputs": [],
   "source": [
    "step = []\n",
    "train_loss_list = []\n",
    "train_acc_list = []\n",
    "test_loss_list = []\n",
    "test_acc_list = []"
   ]
  },
  {
   "cell_type": "code",
   "execution_count": 159,
   "metadata": {},
   "outputs": [
    {
     "name": "stdout",
     "output_type": "stream",
     "text": [
      "step 0   train loss = 3.33882110596   test loss = 3.1517984375   train accuracy = 0.06   test accuracy = 0.1054\n",
      "step 100   train loss = 1.21622673035   test loss = 1.20957246094   train accuracy = 0.7   test accuracy = 0.7195\n",
      "step 200   train loss = 0.624157943726   test loss = 0.620820800781   train accuracy = 0.84   test accuracy = 0.8609\n",
      "step 300   train loss = 0.595752639771   test loss = 0.420854736328   train accuracy = 0.84   test accuracy = 0.9001\n",
      "step 400   train loss = 0.233947811127   test loss = 0.338436523438   train accuracy = 0.96   test accuracy = 0.9126\n",
      "step 500   train loss = 0.394334869385   test loss = 0.285174365234   train accuracy = 0.88   test accuracy = 0.9223\n",
      "step 600   train loss = 0.243092556   test loss = 0.255854248047   train accuracy = 0.94   test accuracy = 0.9266\n",
      "step 700   train loss = 0.183209495544   test loss = 0.236890649414   train accuracy = 0.96   test accuracy = 0.9324\n",
      "step 800   train loss = 0.215654430389   test loss = 0.21802265625   train accuracy = 0.92   test accuracy = 0.9397\n",
      "step 900   train loss = 0.299673881531   test loss = 0.198765991211   train accuracy = 0.86   test accuracy = 0.9421\n",
      "step 1000   train loss = 0.176114273071   test loss = 0.192428930664   train accuracy = 0.92   test accuracy = 0.9447\n",
      "step 1100   train loss = 0.148535385132   test loss = 0.179406347656   train accuracy = 0.96   test accuracy = 0.9497\n",
      "step 1200   train loss = 0.109110527039   test loss = 0.163366430664   train accuracy = 0.96   test accuracy = 0.9534\n",
      "step 1300   train loss = 0.103014669418   test loss = 0.154896496582   train accuracy = 0.96   test accuracy = 0.9566\n",
      "step 1400   train loss = 0.260860443115   test loss = 0.150586816406   train accuracy = 0.9   test accuracy = 0.9586\n",
      "step 1500   train loss = 0.149477787018   test loss = 0.140113061523   train accuracy = 0.94   test accuracy = 0.9602\n",
      "step 1600   train loss = 0.157733259201   test loss = 0.133178491211   train accuracy = 0.9   test accuracy = 0.9606\n",
      "step 1700   train loss = 0.134108734131   test loss = 0.128679602051   train accuracy = 0.96   test accuracy = 0.9617\n",
      "step 1800   train loss = 0.0446363782883   test loss = 0.124278833008   train accuracy = 1.0   test accuracy = 0.9642\n",
      "step 1900   train loss = 0.110471439362   test loss = 0.118568701172   train accuracy = 0.96   test accuracy = 0.9649\n",
      "step 2000   train loss = 0.0763659667969   test loss = 0.112377490234   train accuracy = 0.98   test accuracy = 0.9665\n",
      "step 2100   train loss = 0.0862245178223   test loss = 0.111042285156   train accuracy = 0.96   test accuracy = 0.9679\n",
      "step 2200   train loss = 0.0450204277039   test loss = 0.10360435791   train accuracy = 1.0   test accuracy = 0.969\n",
      "step 2300   train loss = 0.0780314874649   test loss = 0.102321057129   train accuracy = 0.96   test accuracy = 0.9704\n",
      "step 2400   train loss = 0.222702217102   test loss = 0.0990915161133   train accuracy = 0.96   test accuracy = 0.9707\n",
      "step 2500   train loss = 0.0740420770645   test loss = 0.097351373291   train accuracy = 0.98   test accuracy = 0.9717\n",
      "step 2600   train loss = 0.14720123291   test loss = 0.0939323730469   train accuracy = 0.96   test accuracy = 0.9738\n",
      "step 2700   train loss = 0.024819996357   test loss = 0.0897104492188   train accuracy = 1.0   test accuracy = 0.9728\n",
      "step 2800   train loss = 0.121219873428   test loss = 0.0879016479492   train accuracy = 0.96   test accuracy = 0.9737\n",
      "step 2900   train loss = 0.0860890483856   test loss = 0.0874973876953   train accuracy = 0.98   test accuracy = 0.973\n",
      "step 3000   train loss = 0.0492777919769   test loss = 0.0861561218262   train accuracy = 0.98   test accuracy = 0.9753\n",
      "step 3100   train loss = 0.0439722156525   test loss = 0.0822503540039   train accuracy = 1.0   test accuracy = 0.9752\n",
      "step 3200   train loss = 0.119045715332   test loss = 0.0822609436035   train accuracy = 0.98   test accuracy = 0.9743\n",
      "step 3300   train loss = 0.0479383611679   test loss = 0.0780439819336   train accuracy = 1.0   test accuracy = 0.9764\n",
      "step 3400   train loss = 0.0299252700806   test loss = 0.0775628173828   train accuracy = 1.0   test accuracy = 0.9757\n",
      "step 3500   train loss = 0.0601900720596   test loss = 0.0758443969727   train accuracy = 0.98   test accuracy = 0.977\n",
      "step 3600   train loss = 0.113092603683   test loss = 0.0744296508789   train accuracy = 0.96   test accuracy = 0.9776\n",
      "step 3700   train loss = 0.0590605258942   test loss = 0.0718664550781   train accuracy = 0.98   test accuracy = 0.9781\n",
      "step 3800   train loss = 0.0523008871078   test loss = 0.0724082641602   train accuracy = 0.98   test accuracy = 0.9756\n",
      "step 3900   train loss = 0.183901958466   test loss = 0.0698435852051   train accuracy = 0.94   test accuracy = 0.9769\n",
      "step 4000   train loss = 0.0122138881683   test loss = 0.0685703613281   train accuracy = 1.0   test accuracy = 0.9776\n",
      "step 4100   train loss = 0.0756435012817   test loss = 0.0680107788086   train accuracy = 0.98   test accuracy = 0.9787\n",
      "step 4200   train loss = 0.0199235808849   test loss = 0.0651818725586   train accuracy = 1.0   test accuracy = 0.9792\n",
      "step 4300   train loss = 0.0279800724983   test loss = 0.0656811767578   train accuracy = 1.0   test accuracy = 0.9789\n",
      "step 4400   train loss = 0.0104807627201   test loss = 0.0672263977051   train accuracy = 1.0   test accuracy = 0.9787\n",
      "step 4500   train loss = 0.0262741279602   test loss = 0.0614494140625   train accuracy = 0.98   test accuracy = 0.9802\n",
      "step 4600   train loss = 0.0398257398605   test loss = 0.0638886474609   train accuracy = 1.0   test accuracy = 0.9784\n",
      "step 4700   train loss = 0.208835086823   test loss = 0.0595748413086   train accuracy = 0.94   test accuracy = 0.9804\n",
      "step 4800   train loss = 0.0511015844345   test loss = 0.0590072387695   train accuracy = 0.98   test accuracy = 0.9822\n",
      "step 4900   train loss = 0.0718109369278   test loss = 0.0606330688477   train accuracy = 0.98   test accuracy = 0.9803\n",
      "step 5000   train loss = 0.0705589914322   test loss = 0.0563604187012   train accuracy = 0.96   test accuracy = 0.9816\n",
      "step 5100   train loss = 0.0686038398743   test loss = 0.0578323181152   train accuracy = 0.98   test accuracy = 0.9817\n",
      "step 5200   train loss = 0.0278118062019   test loss = 0.0557069702148   train accuracy = 1.0   test accuracy = 0.9822\n",
      "step 5300   train loss = 0.100322313309   test loss = 0.0541297485352   train accuracy = 0.98   test accuracy = 0.983\n",
      "step 5400   train loss = 0.156117010117   test loss = 0.0544033569336   train accuracy = 0.98   test accuracy = 0.9811\n",
      "step 5500   train loss = 0.0421487808228   test loss = 0.0559554321289   train accuracy = 0.98   test accuracy = 0.9823\n",
      "step 5600   train loss = 0.0740081548691   test loss = 0.0540153442383   train accuracy = 0.96   test accuracy = 0.9815\n",
      "step 5700   train loss = 0.0760875606537   test loss = 0.0531324584961   train accuracy = 0.98   test accuracy = 0.9833\n",
      "step 5800   train loss = 0.0689411020279   test loss = 0.0526373352051   train accuracy = 0.98   test accuracy = 0.9827\n",
      "step 5900   train loss = 0.0508153152466   test loss = 0.0489080291748   train accuracy = 0.98   test accuracy = 0.9844\n",
      "step 6000   train loss = 0.0192277550697   test loss = 0.051381817627   train accuracy = 0.98   test accuracy = 0.9832\n",
      "step 6100   train loss = 0.0241657304764   test loss = 0.0508050201416   train accuracy = 1.0   test accuracy = 0.984\n",
      "step 6200   train loss = 0.0496662998199   test loss = 0.0504454223633   train accuracy = 1.0   test accuracy = 0.9836\n",
      "step 6300   train loss = 0.0859262275696   test loss = 0.0484445983887   train accuracy = 0.98   test accuracy = 0.9845\n",
      "step 6400   train loss = 0.0250768661499   test loss = 0.0493231079102   train accuracy = 1.0   test accuracy = 0.9836\n",
      "step 6500   train loss = 0.0112739872932   test loss = 0.0456037750244   train accuracy = 1.0   test accuracy = 0.9853\n",
      "step 6600   train loss = 0.0100969719887   test loss = 0.0474447723389   train accuracy = 1.0   test accuracy = 0.9841\n",
      "step 6700   train loss = 0.313364982605   test loss = 0.04862237854   train accuracy = 0.9   test accuracy = 0.9833\n",
      "step 6800   train loss = 0.118915224075   test loss = 0.0482742462158   train accuracy = 0.96   test accuracy = 0.9844\n",
      "step 6900   train loss = 0.0157207453251   test loss = 0.0441499206543   train accuracy = 1.0   test accuracy = 0.9855\n"
     ]
    },
    {
     "name": "stdout",
     "output_type": "stream",
     "text": [
      "step 7000   train loss = 0.0217023968697   test loss = 0.0458990661621   train accuracy = 1.0   test accuracy = 0.9852\n",
      "step 7100   train loss = 0.0172999191284   test loss = 0.0465972229004   train accuracy = 1.0   test accuracy = 0.9854\n",
      "step 7200   train loss = 0.0161201357841   test loss = 0.0439018066406   train accuracy = 1.0   test accuracy = 0.9861\n",
      "step 7300   train loss = 0.0215807437897   test loss = 0.0435237243652   train accuracy = 1.0   test accuracy = 0.9858\n",
      "step 7400   train loss = 0.0993255710602   test loss = 0.0451186828613   train accuracy = 0.96   test accuracy = 0.9845\n",
      "step 7500   train loss = 0.079494342804   test loss = 0.0439194976807   train accuracy = 0.98   test accuracy = 0.9865\n",
      "step 7600   train loss = 0.049089307785   test loss = 0.0419481109619   train accuracy = 0.98   test accuracy = 0.9866\n",
      "step 7700   train loss = 0.0616021585464   test loss = 0.0428666442871   train accuracy = 0.96   test accuracy = 0.9866\n",
      "step 7800   train loss = 0.0190033698082   test loss = 0.0414505065918   train accuracy = 1.0   test accuracy = 0.987\n",
      "step 7900   train loss = 0.0283259272575   test loss = 0.0394858459473   train accuracy = 0.98   test accuracy = 0.9866\n",
      "step 8000   train loss = 0.0657320833206   test loss = 0.039685949707   train accuracy = 0.98   test accuracy = 0.9871\n",
      "step 8100   train loss = 0.012914993763   test loss = 0.0394323730469   train accuracy = 1.0   test accuracy = 0.9865\n",
      "step 8200   train loss = 0.0639154815674   test loss = 0.0421676361084   train accuracy = 0.98   test accuracy = 0.9863\n",
      "step 8300   train loss = 0.0445186662674   test loss = 0.0418121398926   train accuracy = 0.98   test accuracy = 0.9868\n",
      "step 8400   train loss = 0.0205968761444   test loss = 0.0395755187988   train accuracy = 1.0   test accuracy = 0.9864\n",
      "step 8500   train loss = 0.0019890999794   test loss = 0.0381646575928   train accuracy = 1.0   test accuracy = 0.9874\n",
      "step 8600   train loss = 0.00687688231468   test loss = 0.0378846740723   train accuracy = 1.0   test accuracy = 0.9883\n",
      "step 8700   train loss = 0.0132365572453   test loss = 0.0378274719238   train accuracy = 1.0   test accuracy = 0.9879\n",
      "step 8800   train loss = 0.0769014453888   test loss = 0.0378316375732   train accuracy = 0.98   test accuracy = 0.9872\n",
      "step 8900   train loss = 0.0111230552197   test loss = 0.0373736663818   train accuracy = 1.0   test accuracy = 0.9877\n",
      "step 9000   train loss = 0.0177524876595   test loss = 0.0361407806396   train accuracy = 1.0   test accuracy = 0.9878\n",
      "step 9100   train loss = 0.106638088226   test loss = 0.0368038879395   train accuracy = 0.96   test accuracy = 0.9874\n",
      "step 9200   train loss = 0.0318478870392   test loss = 0.0393822906494   train accuracy = 1.0   test accuracy = 0.9871\n",
      "step 9300   train loss = 0.0305006313324   test loss = 0.0364874694824   train accuracy = 1.0   test accuracy = 0.9879\n",
      "step 9400   train loss = 0.0219138598442   test loss = 0.0364002990723   train accuracy = 1.0   test accuracy = 0.9881\n",
      "step 9500   train loss = 0.00635679483414   test loss = 0.0365159667969   train accuracy = 1.0   test accuracy = 0.9888\n",
      "step 9600   train loss = 0.00355365931988   test loss = 0.0357218658447   train accuracy = 1.0   test accuracy = 0.9879\n",
      "step 9700   train loss = 0.045518579483   test loss = 0.0374135253906   train accuracy = 0.98   test accuracy = 0.9877\n",
      "step 9800   train loss = 0.0430526638031   test loss = 0.0358114715576   train accuracy = 1.0   test accuracy = 0.9891\n",
      "step 9900   train loss = 0.0128362238407   test loss = 0.0361824920654   train accuracy = 1.0   test accuracy = 0.9888\n",
      "step 10000   train loss = 0.0542816781998   test loss = 0.0345405578613   train accuracy = 0.98   test accuracy = 0.9887\n",
      "step 10100   train loss = 0.0262430930138   test loss = 0.0361593566895   train accuracy = 0.98   test accuracy = 0.9877\n",
      "step 10200   train loss = 0.0192829680443   test loss = 0.033973626709   train accuracy = 1.0   test accuracy = 0.9888\n",
      "step 10300   train loss = 0.0190661692619   test loss = 0.0347697540283   train accuracy = 1.0   test accuracy = 0.9889\n",
      "step 10400   train loss = 0.07854991436   test loss = 0.0369437225342   train accuracy = 0.96   test accuracy = 0.9887\n",
      "step 10500   train loss = 0.00091780886054   test loss = 0.0364334411621   train accuracy = 1.0   test accuracy = 0.9888\n",
      "step 10600   train loss = 0.00977121531963   test loss = 0.0333671020508   train accuracy = 1.0   test accuracy = 0.989\n",
      "step 10700   train loss = 0.0122861504555   test loss = 0.0342491455078   train accuracy = 1.0   test accuracy = 0.989\n",
      "step 10800   train loss = 0.0156065809727   test loss = 0.0347524963379   train accuracy = 1.0   test accuracy = 0.9892\n",
      "step 10900   train loss = 0.0330464220047   test loss = 0.0348107635498   train accuracy = 0.98   test accuracy = 0.9888\n",
      "step 11000   train loss = 0.0073615694046   test loss = 0.0326750671387   train accuracy = 1.0   test accuracy = 0.9899\n",
      "step 11100   train loss = 0.0273045778275   test loss = 0.0323832092285   train accuracy = 1.0   test accuracy = 0.9893\n",
      "step 11200   train loss = 0.0807345485687   test loss = 0.0324711273193   train accuracy = 0.98   test accuracy = 0.9893\n",
      "step 11300   train loss = 0.013259999752   test loss = 0.0306244476318   train accuracy = 1.0   test accuracy = 0.9899\n",
      "step 11400   train loss = 0.137293996811   test loss = 0.0328799743652   train accuracy = 0.96   test accuracy = 0.9892\n",
      "step 11500   train loss = 0.00153337150812   test loss = 0.0346863616943   train accuracy = 1.0   test accuracy = 0.989\n",
      "step 11600   train loss = 0.0459359121323   test loss = 0.0316146057129   train accuracy = 0.98   test accuracy = 0.9903\n",
      "step 11700   train loss = 0.0103040099144   test loss = 0.0341115631104   train accuracy = 1.0   test accuracy = 0.989\n",
      "step 11800   train loss = 0.0312754321098   test loss = 0.0340854095459   train accuracy = 0.98   test accuracy = 0.9891\n",
      "step 11900   train loss = 0.00195703431964   test loss = 0.0318010009766   train accuracy = 1.0   test accuracy = 0.9895\n",
      "step 12000   train loss = 0.0719777059555   test loss = 0.0342467803955   train accuracy = 0.98   test accuracy = 0.9886\n",
      "step 12100   train loss = 0.0121855580807   test loss = 0.034870211792   train accuracy = 1.0   test accuracy = 0.9883\n",
      "step 12200   train loss = 0.00975385725498   test loss = 0.0309165618896   train accuracy = 1.0   test accuracy = 0.9908\n",
      "step 12300   train loss = 0.0756605195999   test loss = 0.0306110229492   train accuracy = 0.96   test accuracy = 0.9904\n",
      "step 12400   train loss = 0.00222435057163   test loss = 0.0338445526123   train accuracy = 1.0   test accuracy = 0.9886\n",
      "step 12500   train loss = 0.0141378235817   test loss = 0.0301752502441   train accuracy = 1.0   test accuracy = 0.9903\n",
      "step 12600   train loss = 0.00471922367811   test loss = 0.0316298522949   train accuracy = 1.0   test accuracy = 0.9894\n",
      "step 12700   train loss = 0.00943728625774   test loss = 0.0310349151611   train accuracy = 1.0   test accuracy = 0.9895\n",
      "step 12800   train loss = 0.00921757042408   test loss = 0.0322667358398   train accuracy = 1.0   test accuracy = 0.9888\n",
      "step 12900   train loss = 0.00448918908834   test loss = 0.0301018920898   train accuracy = 1.0   test accuracy = 0.9902\n",
      "step 13000   train loss = 0.0258247518539   test loss = 0.0300078857422   train accuracy = 1.0   test accuracy = 0.99\n",
      "step 13100   train loss = 0.00586661577225   test loss = 0.0316200500488   train accuracy = 1.0   test accuracy = 0.9896\n",
      "step 13200   train loss = 0.00559751987457   test loss = 0.0308807098389   train accuracy = 1.0   test accuracy = 0.9899\n",
      "step 13300   train loss = 0.0213326692581   test loss = 0.0312806243896   train accuracy = 0.98   test accuracy = 0.9896\n",
      "step 13400   train loss = 0.00866670548916   test loss = 0.0308120697021   train accuracy = 1.0   test accuracy = 0.9904\n",
      "step 13500   train loss = 0.00282100021839   test loss = 0.0304136108398   train accuracy = 1.0   test accuracy = 0.9897\n",
      "step 13600   train loss = 0.0243425893784   test loss = 0.0294577880859   train accuracy = 0.98   test accuracy = 0.9896\n",
      "step 13700   train loss = 0.00790620207787   test loss = 0.0313916442871   train accuracy = 1.0   test accuracy = 0.9891\n",
      "step 13800   train loss = 0.0158538496494   test loss = 0.0281827880859   train accuracy = 1.0   test accuracy = 0.9912\n"
     ]
    },
    {
     "name": "stdout",
     "output_type": "stream",
     "text": [
      "step 13900   train loss = 0.000952779501677   test loss = 0.0287721130371   train accuracy = 1.0   test accuracy = 0.9903\n",
      "step 14000   train loss = 0.00167700156569   test loss = 0.0285589416504   train accuracy = 1.0   test accuracy = 0.9907\n",
      "step 14100   train loss = 0.0828875732422   test loss = 0.0289452697754   train accuracy = 0.96   test accuracy = 0.9908\n",
      "step 14200   train loss = 0.00323359429836   test loss = 0.0298351318359   train accuracy = 1.0   test accuracy = 0.9904\n",
      "step 14300   train loss = 0.0142393016815   test loss = 0.0280242279053   train accuracy = 1.0   test accuracy = 0.9905\n",
      "step 14400   train loss = 0.0116338849068   test loss = 0.0280749694824   train accuracy = 1.0   test accuracy = 0.9904\n",
      "step 14500   train loss = 0.0590096378326   test loss = 0.0290629760742   train accuracy = 0.98   test accuracy = 0.9904\n",
      "step 14600   train loss = 0.0135373616219   test loss = 0.0325624176025   train accuracy = 1.0   test accuracy = 0.9893\n",
      "step 14700   train loss = 0.00906679868698   test loss = 0.0297832458496   train accuracy = 1.0   test accuracy = 0.9909\n",
      "step 14800   train loss = 0.0567448091507   test loss = 0.0278713378906   train accuracy = 0.98   test accuracy = 0.9908\n",
      "step 14900   train loss = 0.00781139016151   test loss = 0.0283697387695   train accuracy = 1.0   test accuracy = 0.9903\n",
      "step 15000   train loss = 0.0308823919296   test loss = 0.0273809020996   train accuracy = 0.98   test accuracy = 0.9911\n",
      "step 15100   train loss = 0.00168173551559   test loss = 0.0288960479736   train accuracy = 1.0   test accuracy = 0.9901\n",
      "step 15200   train loss = 0.00479501903057   test loss = 0.0282806335449   train accuracy = 1.0   test accuracy = 0.9905\n",
      "step 15300   train loss = 0.0054774916172   test loss = 0.0257911682129   train accuracy = 1.0   test accuracy = 0.9917\n",
      "step 15400   train loss = 0.00359117418528   test loss = 0.0277500366211   train accuracy = 1.0   test accuracy = 0.9908\n",
      "step 15500   train loss = 0.00487254261971   test loss = 0.0271713684082   train accuracy = 1.0   test accuracy = 0.991\n",
      "step 15600   train loss = 0.0016954267025   test loss = 0.0280953460693   train accuracy = 1.0   test accuracy = 0.9906\n",
      "step 15700   train loss = 0.00285628408194   test loss = 0.0276240844727   train accuracy = 1.0   test accuracy = 0.9907\n",
      "step 15800   train loss = 0.00552405893803   test loss = 0.0275361450195   train accuracy = 1.0   test accuracy = 0.9911\n",
      "step 15900   train loss = 0.00328611940145   test loss = 0.0273493103027   train accuracy = 1.0   test accuracy = 0.9911\n",
      "step 16000   train loss = 0.00319910734892   test loss = 0.0273629699707   train accuracy = 1.0   test accuracy = 0.9909\n",
      "step 16100   train loss = 0.00288092941046   test loss = 0.0271499755859   train accuracy = 1.0   test accuracy = 0.9911\n",
      "step 16200   train loss = 0.0118293011189   test loss = 0.0274106414795   train accuracy = 1.0   test accuracy = 0.9902\n",
      "step 16300   train loss = 0.00332438230515   test loss = 0.0278727844238   train accuracy = 1.0   test accuracy = 0.9897\n",
      "step 16400   train loss = 0.000865462720394   test loss = 0.0261283630371   train accuracy = 1.0   test accuracy = 0.9911\n",
      "step 16500   train loss = 0.000866797491908   test loss = 0.0284597351074   train accuracy = 1.0   test accuracy = 0.9901\n",
      "step 16600   train loss = 0.0271050000191   test loss = 0.0288621795654   train accuracy = 0.98   test accuracy = 0.9903\n",
      "step 16700   train loss = 0.0394951510429   test loss = 0.0280980560303   train accuracy = 0.98   test accuracy = 0.9905\n",
      "step 16800   train loss = 0.0119306814671   test loss = 0.0294782012939   train accuracy = 1.0   test accuracy = 0.9904\n",
      "step 16900   train loss = 0.00796746015549   test loss = 0.0272112304688   train accuracy = 1.0   test accuracy = 0.9915\n",
      "step 17000   train loss = 0.00329945385456   test loss = 0.0265576080322   train accuracy = 1.0   test accuracy = 0.9911\n",
      "step 17100   train loss = 0.00239673674107   test loss = 0.0265921447754   train accuracy = 1.0   test accuracy = 0.9911\n",
      "step 17200   train loss = 0.00404606580734   test loss = 0.0279937744141   train accuracy = 1.0   test accuracy = 0.9909\n",
      "step 17300   train loss = 0.0502001285553   test loss = 0.0264657836914   train accuracy = 0.98   test accuracy = 0.9912\n",
      "step 17400   train loss = 0.0215304327011   test loss = 0.0269456298828   train accuracy = 1.0   test accuracy = 0.9914\n",
      "step 17500   train loss = 0.00803422629833   test loss = 0.0276667907715   train accuracy = 1.0   test accuracy = 0.9904\n",
      "step 17600   train loss = 0.0259035921097   test loss = 0.0292544586182   train accuracy = 0.98   test accuracy = 0.9909\n",
      "step 17700   train loss = 0.000786638334394   test loss = 0.0286353942871   train accuracy = 1.0   test accuracy = 0.9911\n",
      "step 17800   train loss = 0.0200473117828   test loss = 0.0286333526611   train accuracy = 1.0   test accuracy = 0.9907\n",
      "step 17900   train loss = 0.00373540878296   test loss = 0.0274281188965   train accuracy = 1.0   test accuracy = 0.9907\n",
      "step 18000   train loss = 0.00691787958145   test loss = 0.0284934387207   train accuracy = 1.0   test accuracy = 0.991\n",
      "step 18100   train loss = 0.00200941666961   test loss = 0.0259109985352   train accuracy = 1.0   test accuracy = 0.9913\n",
      "step 18200   train loss = 0.0143960058689   test loss = 0.0267896392822   train accuracy = 1.0   test accuracy = 0.9904\n",
      "step 18300   train loss = 0.00881409049034   test loss = 0.026822265625   train accuracy = 1.0   test accuracy = 0.9907\n",
      "step 18400   train loss = 0.00259152829647   test loss = 0.0291407104492   train accuracy = 1.0   test accuracy = 0.99\n",
      "step 18500   train loss = 0.00925902485847   test loss = 0.0269178344727   train accuracy = 1.0   test accuracy = 0.9908\n",
      "step 18600   train loss = 0.107487745285   test loss = 0.0277066040039   train accuracy = 0.98   test accuracy = 0.9908\n",
      "step 18700   train loss = 0.000751867443323   test loss = 0.0280154144287   train accuracy = 1.0   test accuracy = 0.9907\n",
      "step 18800   train loss = 0.0897272586823   test loss = 0.0303918243408   train accuracy = 0.96   test accuracy = 0.99\n",
      "step 18900   train loss = 0.0353711462021   test loss = 0.0256972930908   train accuracy = 0.98   test accuracy = 0.9909\n",
      "step 19000   train loss = 0.00883665084839   test loss = 0.0258501159668   train accuracy = 1.0   test accuracy = 0.9907\n",
      "step 19100   train loss = 0.00852057039738   test loss = 0.026535333252   train accuracy = 1.0   test accuracy = 0.9912\n",
      "step 19200   train loss = 0.00549710929394   test loss = 0.0257316009521   train accuracy = 1.0   test accuracy = 0.991\n",
      "step 19300   train loss = 0.00502208948135   test loss = 0.0256656280518   train accuracy = 1.0   test accuracy = 0.9909\n",
      "step 19400   train loss = 0.000821237713099   test loss = 0.0268303497314   train accuracy = 1.0   test accuracy = 0.9905\n",
      "step 19500   train loss = 0.00234347820282   test loss = 0.0273738647461   train accuracy = 1.0   test accuracy = 0.9906\n",
      "step 19600   train loss = 0.0106183564663   test loss = 0.0250250152588   train accuracy = 1.0   test accuracy = 0.9913\n",
      "step 19700   train loss = 0.00107541099191   test loss = 0.0260134368896   train accuracy = 1.0   test accuracy = 0.9902\n",
      "step 19800   train loss = 0.00537228882313   test loss = 0.0269117034912   train accuracy = 1.0   test accuracy = 0.9906\n",
      "step 19900   train loss = 0.024206135273   test loss = 0.0258517791748   train accuracy = 0.98   test accuracy = 0.9908\n"
     ]
    }
   ],
   "source": [
    "for i in range(20000):\n",
    "  batch = mnist.train.next_batch(50)\n",
    "  if i%100 == 0:\n",
    "    train_accuracy = accuracy.eval(feed_dict={\n",
    "        x:batch[0], y_: batch[1], keep_prob: 1.0})\n",
    "    test_accuracy = accuracy.eval(feed_dict={\n",
    "        x: mnist.test.images, y_: mnist.test.labels, keep_prob: 1.0})\n",
    "    train_loss = cross_entropy.eval(feed_dict={\n",
    "        x:batch[0], y_: batch[1], keep_prob: 1.0})\n",
    "    test_loss = cross_entropy.eval(feed_dict={\n",
    "        x: mnist.test.images, y_: mnist.test.labels, keep_prob: 1.0})\n",
    "    step.append(i)\n",
    "    train_loss_list.append(train_loss/50)\n",
    "    train_acc_list.append(train_accuracy)\n",
    "    test_loss_list.append(test_loss/len(mnist.test.labels))\n",
    "    test_acc_list.append(test_accuracy)\n",
    "    print('step ' + str(i) + '   train loss = ' + str(train_loss/50) + '   test loss = ' + str(test_loss/len(mnist.test.labels)) + '   train accuracy = ' + str(train_accuracy) + '   test accuracy = ' + str(test_accuracy))\n",
    "  train_step.run(feed_dict={x: batch[0], y_: batch[1], keep_prob: 0.5})"
   ]
  },
  {
   "cell_type": "markdown",
   "metadata": {},
   "source": [
    "# Plot"
   ]
  },
  {
   "cell_type": "code",
   "execution_count": 160,
   "metadata": {},
   "outputs": [
    {
     "data": {
      "image/png": "[encoded data removed]",
      "text/plain": [
       "<matplotlib.figure.Figure at 0x7f8c145fe090>"
      ]
     },
     "metadata": {},
     "output_type": "display_data"
    }
   ],
   "source": [
    "plt.figure()\n",
    "plt.title('LeNet loss vs epoch\\nOpt = '+OPTIMIZER+' lr=1e-4  Final Loss='+str(test_loss_list[-1]))\n",
    "plt.ylabel('Loss')\n",
    "plt.xlabel('epoch')\n",
    "plt.plot(step[1:],train_loss_list[1:],'red')\n",
    "plt.plot(step[1:],test_loss_list[1:],'blue')\n",
    "plt.legend(['train','test'])\n",
    "plt.savefig('lenet_loss_6_16_adam_e4')\n",
    "plt.show()"
   ]
  },
  {
   "cell_type": "code",
   "execution_count": 161,
   "metadata": {},
   "outputs": [
    {
     "data": {
      "image/png": "[encoded data removed]",
      "text/plain": [
       "<matplotlib.figure.Figure at 0x7f8c142f2790>"
      ]
     },
     "metadata": {},
     "output_type": "display_data"
    }
   ],
   "source": [
    "plt.figure()\n",
    "plt.title('LeNet accuracy vs epoch\\nOpt = '+OPTIMIZER+'  lr=1e-4  Final Acc='+str(test_acc_list[-1]))\n",
    "plt.ylabel('Loss')\n",
    "plt.xlabel('epoch')\n",
    "plt.plot(step[1:],train_acc_list[1:],'red')\n",
    "plt.plot(step[1:],test_acc_list[1:],'blue')\n",
    "plt.legend(['train','test'])\n",
    "plt.savefig('lenet_acc_6_16_adam_e4')\n",
    "plt.show()"
   ]
  },
  {
   "cell_type": "code",
   "execution_count": null,
   "metadata": {},
   "outputs": [],
   "source": []
  },
  {
   "cell_type": "code",
   "execution_count": null,
   "metadata": {},
   "outputs": [],
   "source": []
  },
  {
   "cell_type": "code",
   "execution_count": null,
   "metadata": {},
   "outputs": [],
   "source": []
  },
  {
   "cell_type": "code",
   "execution_count": null,
   "metadata": {},
   "outputs": [],
   "source": []
  },
  {
   "cell_type": "code",
   "execution_count": null,
   "metadata": {},
   "outputs": [],
   "source": []
  },
  {
   "cell_type": "code",
   "execution_count": null,
   "metadata": {},
   "outputs": [],
   "source": []
  }
 ],
 "metadata": {
  "kernelspec": {
   "display_name": "Python 2",
   "language": "python",
   "name": "python2"
  },
  "language_info": {
   "codemirror_mode": {
    "name": "ipython",
    "version": 2
   },
   "file_extension": ".py",
   "mimetype": "text/x-python",
   "name": "python",
   "nbconvert_exporter": "python",
   "pygments_lexer": "ipython2",
   "version": "2.7.12"
  }
 },
 "nbformat": 4,
 "nbformat_minor": 2
}
