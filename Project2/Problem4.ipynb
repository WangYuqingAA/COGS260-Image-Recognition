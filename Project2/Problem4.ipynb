{
 "cells": [
  {
   "cell_type": "code",
   "execution_count": 1,
   "metadata": {},
   "outputs": [],
   "source": [
    "# Python 2.7"
   ]
  },
  {
   "cell_type": "code",
   "execution_count": 2,
   "metadata": {},
   "outputs": [
    {
     "name": "stderr",
     "output_type": "stream",
     "text": [
      "E:\\Softwares\\Anaconda3\\envs\\py2\\lib\\site-packages\\sklearn\\cross_validation.py:41: DeprecationWarning: This module was deprecated in version 0.18 in favor of the model_selection module into which all the refactored classes and functions are moved. Also note that the interface of the new CV iterators are different from that of this module. This module will be removed in 0.20.\n",
      "  \"This module will be removed in 0.20.\", DeprecationWarning)\n",
      "E:\\Softwares\\Anaconda3\\envs\\py2\\lib\\site-packages\\sklearn\\grid_search.py:42: DeprecationWarning: This module was deprecated in version 0.18 in favor of the model_selection module into which all the refactored classes and functions are moved. This module will be removed in 0.20.\n",
      "  DeprecationWarning)\n"
     ]
    }
   ],
   "source": [
    "import cv2\n",
    "import spm\n",
    "from spm import build_spatial_pyramid, spatial_pyramid_matching\n",
    "\n",
    "import numpy as np\n",
    "from sklearn import svm\n",
    "from sklearn.grid_search import GridSearchCV\n",
    "from sklearn.linear_model import SGDClassifier\n",
    "from sklearn.metrics import accuracy_score,confusion_matrix,classification_report\n",
    "from mnist import MNIST\n",
    "\n",
    "from utils import *\n",
    "from classifier import svm_classifier"
   ]
  },
  {
   "cell_type": "code",
   "execution_count": 3,
   "metadata": {},
   "outputs": [],
   "source": [
    "all_data = MNIST('MNIST_data/')"
   ]
  },
  {
   "cell_type": "code",
   "execution_count": 4,
   "metadata": {},
   "outputs": [],
   "source": [
    "train_input, train_label = all_data.load_training()\n",
    "test_input, test_label = all_data.load_testing()\n",
    "train_img_raw = np.zeros((len(train_input),len(train_input[0])))\n",
    "test_img_raw = np.zeros((len(test_input),len(test_input[0])))"
   ]
  },
  {
   "cell_type": "code",
   "execution_count": 5,
   "metadata": {},
   "outputs": [],
   "source": [
    "for i in range(len(train_input)):\n",
    "    train_img_raw[i] = np.array(train_input[i]).astype('float32')\n",
    "for i in range(len(test_input)):\n",
    "    test_img_raw[i] = np.array(test_input[i]).astype('float32')\n",
    "    \n",
    "train_label = np.array(train_label).astype('uint8')\n",
    "test_label = np.array(test_label).astype('uint8')\n",
    "\n",
    "train_img_ratio = train_img_raw/255\n",
    "test_img_ratio = test_img_raw/255"
   ]
  },
  {
   "cell_type": "code",
   "execution_count": 9,
   "metadata": {},
   "outputs": [],
   "source": [
    "VOC_SIZE = 100\n",
    "PYRAMID_LEVEL = 2\n",
    "\n",
    "DSIFT_STEP_SIZE = 4\n",
    "\n",
    "# Time is precious\n",
    "index_limit = 5000\n",
    "# Only For Test Purpose\n",
    "train_img_raw = train_img_raw[:index_limit]\n",
    "test_img_raw = test_img_raw[:5000]\n",
    "train_label = train_label[:index_limit]\n",
    "test_label = test_label[:5000]\n",
    "#train_img_raw = train_img_raw[:]\n",
    "#test_img_raw = test_img_raw[:]\n",
    "#train_label = train_label[:]\n",
    "#test_label = test_label[:]\n",
    "\n",
    "x_train = [np.stack((train_img_raw[i].reshape((28,28)).astype('uint8'),train_img_raw[i].reshape((28,28)).astype('uint8'),train_img_raw[i].reshape((28,28)).astype('uint8')),axis=2) for i in range(len(train_img_raw))]\n",
    "y_train = train_label\n",
    "x_test = [np.stack((test_img_raw[i].reshape((28,28)).astype('uint8'),test_img_raw[i].reshape((28,28)).astype('uint8'),test_img_raw[i].reshape((28,28)).astype('uint8')),axis=2) for i in range(len(test_img_raw))]\n",
    "y_test = test_label"
   ]
  },
  {
   "cell_type": "code",
   "execution_count": 10,
   "metadata": {},
   "outputs": [
    {
     "name": "stdout",
     "output_type": "stream",
     "text": [
      "Dense SIFT feature extraction\n",
      "Remove None in SIFT extraction\n",
      "Train/Test split: 5000/5000\n",
      "Codebook Size: 100\n",
      "Pyramid level: 2\n",
      "Building the codebook, it will take some time\n"
     ]
    }
   ],
   "source": [
    "print \"Dense SIFT feature extraction\"\n",
    "x_train_feature = [extract_DenseSift_descriptors(img) for img in x_train]\n",
    "x_test_feature = [extract_DenseSift_descriptors(img) for img in x_test]\n",
    "\n",
    "print(\"Remove None in SIFT extraction\")\n",
    "train_tmp = [each for each in zip(x_train_feature, train_label) if not each[0] is None]\n",
    "x_train_feature, train_label = zip(*train_tmp)\n",
    "test_tmp = [each for each in zip(x_test_feature, test_label) if not each[0] is None]\n",
    "x_test_feature, test_label = zip(*test_tmp)\n",
    "\n",
    "x_train_kp, x_train_des = zip(*x_train_feature)\n",
    "x_test_kp, x_test_des = zip(*x_test_feature)\n",
    "\n",
    "print \"Train/Test split: {:d}/{:d}\".format(len(y_train), len(y_test))\n",
    "print \"Codebook Size: {:d}\".format(VOC_SIZE)\n",
    "print \"Pyramid level: {:d}\".format(PYRAMID_LEVEL)\n",
    "\n",
    "print \"Building the codebook, it will take some time\"\n",
    "#codebook = build_codebook(x_train_des, voc_size=VOC_SIZE)\n",
    "import cPickle\n",
    "#with open('./bow_codebook.pkl','w') as f:\n",
    "#    cPickle.dump(codebook, f)\n",
    "with open('./bow_codebook.pkl','r') as f:\n",
    "    codebook = cPickle.load(f)\n",
    "    f.close()"
   ]
  },
  {
   "cell_type": "code",
   "execution_count": 20,
   "metadata": {},
   "outputs": [
    {
     "name": "stdout",
     "output_type": "stream",
     "text": [
      "Spatial Pyramid Matching encoding\n"
     ]
    }
   ],
   "source": [
    "print \"Spatial Pyramid Matching encoding\"\n",
    "x_train = [spatial_pyramid_matching(x_train[i],\n",
    "                                    x_train_des[i],\n",
    "                                    codebook,\n",
    "                                    level=PYRAMID_LEVEL)\n",
    "                                    for i in xrange(len(x_train))]\n",
    "\n",
    "x_test = [spatial_pyramid_matching(x_test[i],\n",
    "                                   x_test_des[i],\n",
    "                                   codebook,\n",
    "                                   level=PYRAMID_LEVEL) for i in xrange(len(x_test))]\n",
    "\n",
    "x_train = np.asarray(x_train)\n",
    "x_test = np.asarray(x_test)"
   ]
  },
  {
   "cell_type": "code",
   "execution_count": 9,
   "metadata": {},
   "outputs": [
    {
     "name": "stdout",
     "output_type": "stream",
     "text": [
      "Tuning hyper-parameters\n",
      "\n",
      "0.113 (+/-0.000) for {'C': 0.001, 'gamma': 0.001}\n",
      "0.113 (+/-0.000) for {'C': 0.001, 'gamma': 0.01}\n",
      "0.113 (+/-0.000) for {'C': 0.001, 'gamma': 0.1}\n",
      "0.113 (+/-0.000) for {'C': 0.001, 'gamma': 1.0}\n",
      "0.113 (+/-0.000) for {'C': 0.001, 'gamma': 10.0}\n",
      "0.113 (+/-0.000) for {'C': 0.001, 'gamma': 100.0}\n",
      "0.113 (+/-0.000) for {'C': 0.01, 'gamma': 0.001}\n",
      "0.113 (+/-0.000) for {'C': 0.01, 'gamma': 0.01}\n",
      "0.113 (+/-0.000) for {'C': 0.01, 'gamma': 0.1}\n",
      "0.578 (+/-0.013) for {'C': 0.01, 'gamma': 1.0}\n",
      "0.211 (+/-0.020) for {'C': 0.01, 'gamma': 10.0}\n",
      "0.113 (+/-0.000) for {'C': 0.01, 'gamma': 100.0}\n",
      "0.113 (+/-0.000) for {'C': 0.1, 'gamma': 0.001}\n",
      "0.113 (+/-0.000) for {'C': 0.1, 'gamma': 0.01}\n",
      "0.619 (+/-0.004) for {'C': 0.1, 'gamma': 0.1}\n",
      "0.841 (+/-0.032) for {'C': 0.1, 'gamma': 1.0}\n",
      "0.659 (+/-0.045) for {'C': 0.1, 'gamma': 10.0}\n",
      "0.147 (+/-0.015) for {'C': 0.1, 'gamma': 100.0}\n",
      "0.113 (+/-0.000) for {'C': 1.0, 'gamma': 0.001}\n",
      "0.636 (+/-0.016) for {'C': 1.0, 'gamma': 0.01}\n",
      "0.850 (+/-0.029) for {'C': 1.0, 'gamma': 0.1}\n",
      "0.895 (+/-0.018) for {'C': 1.0, 'gamma': 1.0}\n",
      "0.884 (+/-0.032) for {'C': 1.0, 'gamma': 10.0}\n",
      "0.284 (+/-0.027) for {'C': 1.0, 'gamma': 100.0}\n",
      "0.637 (+/-0.017) for {'C': 10.0, 'gamma': 0.001}\n",
      "0.851 (+/-0.029) for {'C': 10.0, 'gamma': 0.01}\n",
      "0.896 (+/-0.020) for {'C': 10.0, 'gamma': 0.1}\n",
      "0.914 (+/-0.014) for {'C': 10.0, 'gamma': 1.0}\n",
      "0.888 (+/-0.023) for {'C': 10.0, 'gamma': 10.0}\n",
      "0.299 (+/-0.023) for {'C': 10.0, 'gamma': 100.0}\n",
      "0.851 (+/-0.029) for {'C': 100.0, 'gamma': 0.001}\n",
      "0.895 (+/-0.020) for {'C': 100.0, 'gamma': 0.01}\n",
      "0.909 (+/-0.019) for {'C': 100.0, 'gamma': 0.1}\n",
      "0.905 (+/-0.012) for {'C': 100.0, 'gamma': 1.0}\n",
      "0.888 (+/-0.024) for {'C': 100.0, 'gamma': 10.0}\n",
      "0.299 (+/-0.023) for {'C': 100.0, 'gamma': 100.0}\n",
      "             precision    recall  f1-score   support\n",
      "\n",
      "          0       0.93      0.97      0.94       460\n",
      "          1       0.97      0.99      0.98       571\n",
      "          2       0.90      0.92      0.91       530\n",
      "          3       0.82      0.84      0.83       500\n",
      "          4       0.91      0.92      0.91       500\n",
      "          5       0.93      0.84      0.88       456\n",
      "          6       0.93      0.92      0.93       462\n",
      "          7       0.90      0.87      0.88       512\n",
      "          8       0.80      0.75      0.77       489\n",
      "          9       0.84      0.88      0.86       520\n",
      "\n",
      "avg / total       0.89      0.89      0.89      5000\n",
      "\n"
     ]
    }
   ],
   "source": [
    "C_range = 10.0 ** np.arange(-3, 3)\n",
    "gamma_range = 10.0 ** np.arange(-3, 3)\n",
    "param_grid = dict(gamma=gamma_range.tolist(), C=C_range.tolist())\n",
    "# Grid search for C, gamma, 3-fold CV\n",
    "print(\"Tuning hyper-parameters\\n\")\n",
    "clf = GridSearchCV(svm.SVC(), param_grid, cv=3, n_jobs=-2)\n",
    "\n",
    "clf.fit(x_train[:], y_train[:])\n",
    "\n",
    "for params, mean_score, scores in clf.grid_scores_:\n",
    "    print(\"%0.3f (+/-%0.03f) for %r\"\n",
    "          % (mean_score, scores.std() * 2, params))\n",
    "\n",
    "y_true, y_pred = y_test, clf.predict(x_test)\n",
    "print(classification_report(y_true, y_pred))"
   ]
  },
  {
   "cell_type": "code",
   "execution_count": 10,
   "metadata": {},
   "outputs": [],
   "source": [
    "x_valid = x_train[:5000]\n",
    "y_valid = y_train[:5000]\n",
    "x_train = x_train[5000:]\n",
    "y_train = y_train[5000:]"
   ]
  },
  {
   "cell_type": "code",
   "execution_count": 11,
   "metadata": {},
   "outputs": [
    {
     "name": "stdout",
     "output_type": "stream",
     "text": [
      "epoch ---> 0\n",
      "epoch ---> 1\n",
      "epoch ---> 2\n",
      "epoch ---> 3\n",
      "epoch ---> 4\n",
      "epoch ---> 5\n",
      "epoch ---> 6\n",
      "epoch ---> 7\n",
      "epoch ---> 8\n",
      "epoch ---> 9\n",
      "             precision    recall  f1-score   support\n",
      "\n",
      "          0       0.94      0.99      0.97        85\n",
      "          1       0.99      1.00      1.00       126\n",
      "          2       0.91      0.91      0.91       116\n",
      "          3       0.86      0.83      0.85       107\n",
      "          4       0.94      0.92      0.93       110\n",
      "          5       0.96      0.89      0.92        87\n",
      "          6       0.91      0.94      0.93        87\n",
      "          7       0.89      0.90      0.89        99\n",
      "          8       0.82      0.78      0.80        89\n",
      "          9       0.82      0.90      0.86        94\n",
      "\n",
      "avg / total       0.91      0.91      0.91      1000\n",
      "\n",
      "('validation accuracy is :', 0.98299999999999998)\n",
      "('test accuracy is :', 0.90800000000000003)\n"
     ]
    }
   ],
   "source": [
    "valid_predictions=[]\n",
    "test_predictions=[]\n",
    "for i in range(1000):\n",
    "    if i % 100 == 0:\n",
    "        print('epoch ---> '+str(int(i/100)))\n",
    "    valid_output = clf.predict([x_valid[i]])\n",
    "    test_output = clf.predict([x_test[i]])\n",
    "    valid_predictions.append(valid_output)\n",
    "    test_predictions.append(test_output)\n",
    "\n",
    "confusion_m = confusion_matrix(y_test[0:1000],test_predictions)\n",
    "\n",
    "print (classification_report(y_test[0:1000],np.array(test_predictions)))\n",
    "\n",
    "print ('validation accuracy is :',accuracy_score(y_valid[0:1000],valid_predictions))\n",
    "print ('test accuracy is :',accuracy_score(y_test[0:1000],test_predictions))\n",
    "\n",
    "class_names = [chr(i) for i in range(ord('0'),ord('9')+1)]"
   ]
  },
  {
   "cell_type": "code",
   "execution_count": 12,
   "metadata": {},
   "outputs": [],
   "source": [
    "import matplotlib.pyplot as plt\n",
    "import itertools\n",
    "\n",
    "def plot_confusion_matrix(cm, classes,\n",
    "                          normalize=False,\n",
    "                          title='Confusion matrix',\n",
    "                          cmap=plt.cm.Blues):\n",
    "    \"\"\"\n",
    "    This function prints and plots the confusion matrix.\n",
    "    Normalization can be applied by setting `normalize=True`.\n",
    "    \"\"\"\n",
    "    if normalize:\n",
    "        cm = cm.astype('float') / cm.sum(axis=1)[:, np.newaxis]\n",
    "        print(\"Normalized confusion matrix\")\n",
    "    else:\n",
    "        print('Confusion matrix, without normalization')\n",
    "\n",
    "    print(cm)\n",
    "\n",
    "    plt.imshow(cm, interpolation='nearest', cmap=cmap)\n",
    "    plt.title(title)\n",
    "    plt.colorbar()\n",
    "    tick_marks = np.arange(len(classes))\n",
    "    plt.xticks(tick_marks, classes, rotation=45)\n",
    "    plt.yticks(tick_marks, classes)\n",
    "\n",
    "    fmt = '.2f' if normalize else 'd'\n",
    "    thresh = cm.max() / 2.\n",
    "    for i, j in itertools.product(range(cm.shape[0]), range(cm.shape[1])):\n",
    "        plt.text(j, i, format(cm[i, j], fmt),\n",
    "                 horizontalalignment=\"center\",\n",
    "                 color=\"white\" if cm[i, j] > thresh else \"black\")\n",
    "\n",
    "    plt.tight_layout()\n",
    "    plt.ylabel('True label')\n",
    "    plt.xlabel('Predicted label')"
   ]
  },
  {
   "cell_type": "code",
   "execution_count": 13,
   "metadata": {},
   "outputs": [
    {
     "name": "stdout",
     "output_type": "stream",
     "text": [
      "Confusion matrix, without normalization\n",
      "[[ 84   0   0   0   0   0   0   0   1   0]\n",
      " [  0 126   0   0   0   0   0   0   0   0]\n",
      " [  0   0 106   3   0   0   2   2   2   1]\n",
      " [  0   0   6  89   0   2   0   4   4   2]\n",
      " [  0   0   0   0 101   0   3   0   0   6]\n",
      " [  0   0   0   4   0  77   1   0   3   2]\n",
      " [  3   0   0   0   2   0  82   0   0   0]\n",
      " [  0   0   1   4   0   0   0  89   1   4]\n",
      " [  2   1   3   3   1   1   2   3  69   4]\n",
      " [  0   0   0   0   3   0   0   2   4  85]]\n"
     ]
    },
    {
     "data": {
      "image/png": "[encoded data removed]",
      "text/plain": [
       "<Figure size 432x288 with 2 Axes>"
      ]
     },
     "metadata": {},
     "output_type": "display_data"
    }
   ],
   "source": [
    "plot_confusion_matrix(confusion_m,classes=class_names,title='SPM confusion matrix\\nvalid_acc='+str(accuracy_score(y_valid[0:1000],valid_predictions))+'  test_acc='+str(accuracy_score(y_test[0:1000],test_predictions)))"
   ]
  },
  {
   "cell_type": "code",
   "execution_count": null,
   "metadata": {},
   "outputs": [],
   "source": []
  },
  {
   "cell_type": "code",
   "execution_count": null,
   "metadata": {},
   "outputs": [],
   "source": []
  },
  {
   "cell_type": "code",
   "execution_count": null,
   "metadata": {},
   "outputs": [],
   "source": []
  }
 ],
 "metadata": {
  "kernelspec": {
   "display_name": "Python 2",
   "language": "python",
   "name": "python2"
  },
  "language_info": {
   "codemirror_mode": {
    "name": "ipython",
    "version": 2
   },
   "file_extension": ".py",
   "mimetype": "text/x-python",
   "name": "python",
   "nbconvert_exporter": "python",
   "pygments_lexer": "ipython2",
   "version": "2.7.14"
  }
 },
 "nbformat": 4,
 "nbformat_minor": 2
}
